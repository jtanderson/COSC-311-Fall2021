{
 "cells": [
  {
   "cell_type": "code",
   "execution_count": 49,
   "id": "19ee78e6-aad2-4dc7-9727-b925176b0afd",
   "metadata": {},
   "outputs": [],
   "source": [
    "import numpy as np\n",
    "import math\n",
    "from matplotlib import pyplot as plt\n",
    "from tqdm import tqdm # if we want a fancy progress bar!"
   ]
  },
  {
   "cell_type": "code",
   "execution_count": 50,
   "id": "ce6c023e-b214-4783-ad89-4b00933d5f6f",
   "metadata": {},
   "outputs": [],
   "source": [
    "# recall the algorithm of gradient descent:\n",
    "# goal: minimize a function, f\n",
    "# method: given access to the derivative, f_prime\n",
    "#   - pick a starting point, x = random, x = 0, whatever you think makes sense in situ\n",
    "#   - repeat until \"done\"\n",
    "#      - update x <- x - f_prime(x) * descent_rate\n",
    "#      - optionally, update descent_rate, e.g. to slow down in later iterations"
   ]
  },
  {
   "cell_type": "code",
   "execution_count": 69,
   "id": "d7250926-9890-45e5-8870-5f1555dcb5fc",
   "metadata": {},
   "outputs": [],
   "source": [
    "def grad_desc(f_prime):\n",
    "    \"\"\" do grad descent using f_prime as access to the derivative at a point \"\"\"\n",
    "    x = 0.9\n",
    "    old_x = 0\n",
    "    learning_rate = 1\n",
    "    while abs( x - old_x ) > 0.001:\n",
    "        old_x = x\n",
    "        x -= f_prime(x)*learning_rate\n",
    "        learning_rate *= 0.9\n",
    "#         print(x)\n",
    "    return x\n",
    "    "
   ]
  },
  {
   "cell_type": "code",
   "execution_count": 35,
   "id": "f8d85dae-dfc1-4856-8ed6-2e259f547a06",
   "metadata": {},
   "outputs": [],
   "source": [
    "def x_squared_prime(x,a):\n",
    "    \"\"\"return derivative of f(x) = (x-a)**2 at x\"\"\"\n",
    "    # return 2 * x # for x**2\n",
    "    return 2*(x-a)\n",
    "\n",
    "def x_cube_prime(x,a):\n",
    "    \"\"\"return derivative of f(x) = (x-a)**3 at x\"\"\"\n",
    "    # return 2 * x # for x**2\n",
    "    return 3 * (x-a)**2"
   ]
  },
  {
   "cell_type": "code",
   "execution_count": 31,
   "id": "2a56d0af-8312-4cb5-8eca-d634952bcc34",
   "metadata": {},
   "outputs": [],
   "source": [
    "def xsp_wrapper(x):\n",
    "    return x_squared_prime(x,2)"
   ]
  },
  {
   "cell_type": "code",
   "execution_count": 34,
   "id": "b2cddc22-d061-42eb-9191-51e5cc7da1db",
   "metadata": {},
   "outputs": [
    {
     "name": "stdout",
     "output_type": "stream",
     "text": [
      "3.1\n",
      "1.1199999999999999\n",
      "2.5456000000000003\n",
      "1.7501151999999998\n",
      "2.0780140345600002\n",
      "1.9858810200253312\n",
      "2.000887829698767\n",
      "2.0000385373134706\n"
     ]
    },
    {
     "data": {
      "text/plain": [
       "2.0000385373134706"
      ]
     },
     "execution_count": 34,
     "metadata": {},
     "output_type": "execute_result"
    }
   ],
   "source": [
    "# grad_desc(lambda x: x_squared_prime(x,2))\n",
    "grad_desc(xsp_wrapper)"
   ]
  },
  {
   "cell_type": "code",
   "execution_count": 37,
   "id": "914850e2-efa1-4733-9148-8224711f7f56",
   "metadata": {},
   "outputs": [],
   "source": [
    "# grad_desc(lambda x: x_cube_prime(x,0))"
   ]
  },
  {
   "cell_type": "markdown",
   "id": "6aa67b60-bd70-49ca-8d82-388f652078a7",
   "metadata": {},
   "source": [
    "# Now with Linear Regression..."
   ]
  },
  {
   "cell_type": "code",
   "execution_count": 84,
   "id": "022ee4a0-eca8-46be-90b2-56ce879fdde9",
   "metadata": {},
   "outputs": [],
   "source": [
    "def bestFitGradientDescent(data):\n",
    "    \"\"\"take in data as a list of (x,y) pairs and calculate alpha and beta of lobf\"\"\"\n",
    "    alpha = 2\n",
    "    beta = 2\n",
    "    learning_rate = 0.0001\n",
    "    \n",
    "    for _ in tqdm(range(100000)):\n",
    "        alpha_grad = 0\n",
    "        beta_grad = 0\n",
    "#         print(f'alpha: {alpha}, beta: {beta}')\n",
    "        # calculate the partial derivatives\n",
    "        for row in data:\n",
    "            alpha_grad += 2*( alpha * row[0] + beta - row[1] ) * row[0]\n",
    "            beta_grad += 2* ( alpha * row[0] + beta - row[1] )\n",
    "            \n",
    "        # do our gradient descent step\n",
    "        alpha -= learning_rate * alpha_grad\n",
    "        beta -= learning_rate * beta_grad\n",
    "#         learning_rate *= 0.9\n",
    "    \n",
    "    return alpha, beta"
   ]
  },
  {
   "cell_type": "code",
   "execution_count": 88,
   "id": "fc55c7c9-e76d-449e-a078-819c784d8c8b",
   "metadata": {},
   "outputs": [],
   "source": [
    "xs = np.arange(1,10,0.1)\n",
    "points = np.array([ [x, x + np.random.normal(0,1)] for x in xs ])"
   ]
  },
  {
   "cell_type": "code",
   "execution_count": 89,
   "id": "61bedca7-6121-4aa4-9806-a76201f985dd",
   "metadata": {},
   "outputs": [
    {
     "data": {
      "text/plain": [
       "<matplotlib.collections.PathCollection at 0x7fd34e30b6d0>"
      ]
     },
     "execution_count": 89,
     "metadata": {},
     "output_type": "execute_result"
    },
    {
     "data": {
      "image/png": "[encoded data removed]",
      "text/plain": [
       "<Figure size 432x288 with 1 Axes>"
      ]
     },
     "metadata": {
      "needs_background": "light"
     },
     "output_type": "display_data"
    }
   ],
   "source": [
    "plt.scatter(points[:,0], points[:,1])"
   ]
  },
  {
   "cell_type": "code",
   "execution_count": 90,
   "id": "ff5fb892-3771-42df-a8c2-5613ade3a3b9",
   "metadata": {},
   "outputs": [
    {
     "name": "stderr",
     "output_type": "stream",
     "text": [
      "100%|██████████| 100000/100000 [00:10<00:00, 9743.93it/s]\n"
     ]
    }
   ],
   "source": [
    "a,b = bestFitGradientDescent(points)"
   ]
  },
  {
   "cell_type": "code",
   "execution_count": 91,
   "id": "e0d8687f-3d5f-49f4-827e-115fdf003741",
   "metadata": {},
   "outputs": [
    {
     "data": {
      "text/plain": [
       "[<matplotlib.lines.Line2D at 0x7fd34e447df0>]"
      ]
     },
     "execution_count": 91,
     "metadata": {},
     "output_type": "execute_result"
    },
    {
     "data": {
      "image/png": "[encoded data removed]",
      "text/plain": [
       "<Figure size 432x288 with 1 Axes>"
      ]
     },
     "metadata": {
      "needs_background": "light"
     },
     "output_type": "display_data"
    }
   ],
   "source": [
    "plt.scatter(points[:,0], points[:,1])\n",
    "plt.plot(xs, [a*x + b for x in xs])"
   ]
  },
  {
   "cell_type": "code",
   "execution_count": 92,
   "id": "a8d37f76-10eb-46ef-ad6a-2c538f3d26f1",
   "metadata": {},
   "outputs": [
    {
     "data": {
      "text/plain": [
       "(0.9387338876239141, 0.3437905933266796)"
      ]
     },
     "execution_count": 92,
     "metadata": {},
     "output_type": "execute_result"
    }
   ],
   "source": [
    "(a,b)"
   ]
  },
  {
   "cell_type": "code",
   "execution_count": null,
   "id": "9fc1eabc-5314-4c12-9956-f29d0c18d4c9",
   "metadata": {},
   "outputs": [],
   "source": []
  }
 ],
 "metadata": {
  "kernelspec": {
   "display_name": "Python 3 (ipykernel)",
   "language": "python",
   "name": "python3"
  },
  "language_info": {
   "codemirror_mode": {
    "name": "ipython",
    "version": 3
   },
   "file_extension": ".py",
   "mimetype": "text/x-python",
   "name": "python",
   "nbconvert_exporter": "python",
   "pygments_lexer": "ipython3",
   "version": "3.8.8"
  }
 },
 "nbformat": 4,
 "nbformat_minor": 5
}
