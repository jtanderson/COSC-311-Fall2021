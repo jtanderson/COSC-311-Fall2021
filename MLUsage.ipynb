{
 "cells": [
  {
   "cell_type": "markdown",
   "id": "34b3f870-0450-4a68-a181-b872a4cc7232",
   "metadata": {},
   "source": [
    "# Using machine learning\n",
    "\n",
    "When using machine learning, we will usually rely on off-the-shelf implementations such as in [scikit-learn](https://scikit-learn.org/). To install this, do `pip install sklearn`."
   ]
  },
  {
   "cell_type": "code",
   "execution_count": 93,
   "id": "c1a13e31-d7ec-4564-85b1-960e8c827295",
   "metadata": {},
   "outputs": [],
   "source": [
    "import numpy as np\n",
    "from sklearn.neighbors import KNeighborsClassifier\n",
    "from sklearn.svm import SVC\n",
    "from matplotlib import pyplot as plt\n",
    "import pandas as pd"
   ]
  },
  {
   "cell_type": "code",
   "execution_count": 11,
   "id": "3b9ff9e9-e428-4775-b0a5-8a64a75b3083",
   "metadata": {},
   "outputs": [
    {
     "name": "stdout",
     "output_type": "stream",
     "text": [
      "<class 'pandas.core.frame.DataFrame'>\n",
      "RangeIndex: 150 entries, 0 to 149\n",
      "Data columns (total 5 columns):\n",
      " #   Column        Non-Null Count  Dtype  \n",
      "---  ------        --------------  -----  \n",
      " 0   sepal_length  150 non-null    float64\n",
      " 1   sepal_width   150 non-null    float64\n",
      " 2   petal_length  150 non-null    float64\n",
      " 3   petal_width   150 non-null    float64\n",
      " 4   class         150 non-null    object \n",
      "dtypes: float64(4), object(1)\n",
      "memory usage: 6.0+ KB\n"
     ]
    }
   ],
   "source": [
    "iris = pd.read_csv('data/iris.data', header=None, \n",
    "                   names=['sepal_length', 'sepal_width', 'petal_length', 'petal_width', 'class'])\n",
    "iris.info()"
   ]
  },
  {
   "cell_type": "code",
   "execution_count": 8,
   "id": "787de77f-f743-4e9f-bfd9-0cf6b2faadd0",
   "metadata": {},
   "outputs": [
    {
     "data": {
      "text/plain": [
       "Text(0.5, 1.0, 'Sepal length vs width')"
      ]
     },
     "execution_count": 8,
     "metadata": {},
     "output_type": "execute_result"
    },
    {
     "data": {
      "image/png": "[encoded data removed]",
      "text/plain": [
       "<Figure size 432x288 with 1 Axes>"
      ]
     },
     "metadata": {
      "needs_background": "light"
     },
     "output_type": "display_data"
    }
   ],
   "source": [
    "# Idea: when we look at the ground truth, these look easily classifiable by simple algorithms\n",
    "\n",
    "# But now, separate by class\n",
    "setosa = iris[iris['class'] == 'Iris-setosa']\n",
    "virginica = iris[iris['class'] == 'Iris-virginica']\n",
    "versicolor = iris[iris['class'] == 'Iris-versicolor']\n",
    "\n",
    "plt.scatter(x=setosa['sepal_length'], y=setosa['sepal_width'], color='b')\n",
    "plt.scatter(x=virginica['sepal_length'], y=virginica['sepal_width'], color='r')\n",
    "plt.scatter(x=versicolor['sepal_length'], y=versicolor['sepal_width'], color='g')\n",
    "plt.legend(['setosa', 'viginica', 'versicolor'])\n",
    "plt.title(\"Sepal length vs width\")"
   ]
  },
  {
   "cell_type": "code",
   "execution_count": 35,
   "id": "448cbc5f-6d92-46d0-8ae0-c6243ccae1ca",
   "metadata": {},
   "outputs": [
    {
     "data": {
      "text/plain": [
       "array([1., 1., 0.])"
      ]
     },
     "execution_count": 35,
     "metadata": {},
     "output_type": "execute_result"
    }
   ],
   "source": [
    "# Construct a classifier object\n",
    "# Then will need to be trained, or \"fit\"\n",
    "knn = KNeighborsClassifier(n_neighbors = 3)\n",
    "\n",
    "# To do that, need to pass an array of data points\n",
    "# and an array of labels for each of those points\n",
    "\n",
    "# Extract the two columns we want to classify on as a numpy array\n",
    "X = iris[['sepal_length','sepal_width']].values\n",
    "\n",
    "Y = iris['class'].values\n",
    "\n",
    "# We have the labels as strings, just map to numbers\n",
    "# We will set setosa to be class 0\n",
    "# We will set the non-setosa to class 1\n",
    "\n",
    "# Replace Iris-setosa entries with 0\n",
    "Y[Y == 'Iris-setosa'] = 0\n",
    "Y[Y != 0] = 1\n",
    "\n",
    "# Because Y started as strings, they were stoerd as a generic object\n",
    "# so we will convert them to be stored as floats\n",
    "Y = Y.astype('float64')\n",
    "\n",
    "# Fit/train the model/algorithm/classifier to the data and labels\n",
    "knn.fit(X,Y)\n",
    "\n",
    "# We can now ask the knn to classify new points!\n",
    "# They call this \"predict\"\n",
    "# The .predict() method needs an input matrix of the same cols as X\n",
    "# It will return an array of predicted labels, one for each row\n",
    "knn.predict([ [7,2.5], [5,2.7], [5,2.9] ])"
   ]
  },
  {
   "cell_type": "code",
   "execution_count": 36,
   "id": "b2521510-532d-4f7a-a227-cba01d364838",
   "metadata": {},
   "outputs": [
    {
     "data": {
      "text/plain": [
       "array([0., 0., 0., 0., 0., 0., 0., 0., 0., 0., 0., 0., 0., 0., 0., 0., 0.,\n",
       "       0., 0., 0., 0., 0., 0., 0., 0., 0., 0., 0., 0., 0., 0., 0., 0., 0.,\n",
       "       0., 0., 0., 0., 0., 0., 0., 1., 0., 0., 0., 0., 0., 0., 0., 0., 1.,\n",
       "       1., 1., 1., 1., 1., 1., 1., 1., 1., 1., 1., 1., 1., 1., 1., 1., 1.,\n",
       "       1., 1., 1., 1., 1., 1., 1., 1., 1., 1., 1., 1., 1., 1., 1., 1., 1.,\n",
       "       1., 1., 1., 1., 1., 1., 1., 1., 1., 1., 1., 1., 1., 1., 1., 1., 1.,\n",
       "       1., 1., 1., 1., 1., 1., 1., 1., 1., 1., 1., 1., 1., 1., 1., 1., 1.,\n",
       "       1., 1., 1., 1., 1., 1., 1., 1., 1., 1., 1., 1., 1., 1., 1., 1., 1.,\n",
       "       1., 1., 1., 1., 1., 1., 1., 1., 1., 1., 1., 1., 1., 1.])"
      ]
     },
     "execution_count": 36,
     "metadata": {},
     "output_type": "execute_result"
    }
   ],
   "source": [
    "# See how confused this algorithm is:\n",
    "knn.predict(X)"
   ]
  },
  {
   "cell_type": "code",
   "execution_count": 37,
   "id": "613bc2b9-0b42-4b68-8969-bc1e14f36750",
   "metadata": {},
   "outputs": [
    {
     "data": {
      "text/plain": [
       "array([0., 0., 0., 0., 0., 0., 0., 0., 0., 0., 0., 0., 0., 0., 0., 0., 0.,\n",
       "       0., 0., 0., 0., 0., 0., 0., 0., 0., 0., 0., 0., 0., 0., 0., 0., 0.,\n",
       "       0., 0., 0., 0., 0., 0., 0., 0., 0., 0., 0., 0., 0., 0., 0., 0., 1.,\n",
       "       1., 1., 1., 1., 1., 1., 1., 1., 1., 1., 1., 1., 1., 1., 1., 1., 1.,\n",
       "       1., 1., 1., 1., 1., 1., 1., 1., 1., 1., 1., 1., 1., 1., 1., 1., 1.,\n",
       "       1., 1., 1., 1., 1., 1., 1., 1., 1., 1., 1., 1., 1., 1., 1., 1., 1.,\n",
       "       1., 1., 1., 1., 1., 1., 1., 1., 1., 1., 1., 1., 1., 1., 1., 1., 1.,\n",
       "       1., 1., 1., 1., 1., 1., 1., 1., 1., 1., 1., 1., 1., 1., 1., 1., 1.,\n",
       "       1., 1., 1., 1., 1., 1., 1., 1., 1., 1., 1., 1., 1., 1.])"
      ]
     },
     "execution_count": 37,
     "metadata": {},
     "output_type": "execute_result"
    }
   ],
   "source": [
    "Y"
   ]
  },
  {
   "cell_type": "code",
   "execution_count": 42,
   "id": "40580762-1ee4-490d-9483-2043869b54f0",
   "metadata": {},
   "outputs": [
    {
     "name": "stdout",
     "output_type": "stream",
     "text": [
      "We got 1 wrong!\n"
     ]
    }
   ],
   "source": [
    "num_wrong = np.sum(np.not_equal(knn.predict(X),Y))\n",
    "print(f'We got {num_wrong} wrong!')"
   ]
  },
  {
   "cell_type": "markdown",
   "id": "40cca736-f439-47a6-9ddd-ff858d2f35d2",
   "metadata": {},
   "source": [
    "## We also usually want to see a decision boundary or regions of each class\n",
    "\n",
    "One way, use contour plotting to just classify the whole grid.\n",
    "The easiest way to do this is use `pyplot.contourf` to fill in the areas between grid points,\n",
    "using `numpy.meshgrid` to generate the grid points themselves."
   ]
  },
  {
   "cell_type": "code",
   "execution_count": 86,
   "id": "28fb9aef-6786-4f85-b3d2-fa75992db4f9",
   "metadata": {},
   "outputs": [],
   "source": [
    "def f(x,y):\n",
    "    return 2*x + 1*y\n",
    "\n",
    "def g(x,y):\n",
    "    return 1*(x-4)**3 + 3*(y-4)**2"
   ]
  },
  {
   "cell_type": "code",
   "execution_count": 49,
   "id": "44fbbb2f-5ed9-4414-aa27-42dd08bde31e",
   "metadata": {},
   "outputs": [],
   "source": [
    "# To make sure the grid contains all of our data\n",
    "rmin = np.min(X) - 1\n",
    "rmax = np.max(X) + 1"
   ]
  },
  {
   "cell_type": "code",
   "execution_count": 54,
   "id": "c4d977d2-98f9-411f-a0c9-ce72e4eb69d7",
   "metadata": {},
   "outputs": [],
   "source": [
    "# in each of these, the i,j element stores the x or y value respectively corresponding to coordinates (i,j)\n",
    "xs, ys = np.meshgrid(np.arange(rmin,rmax,0.1),np.arange(rmin,rmax,0.1))"
   ]
  },
  {
   "cell_type": "code",
   "execution_count": 88,
   "id": "e513c8a7-db27-4ec9-aecd-43e226d849f4",
   "metadata": {},
   "outputs": [
    {
     "data": {
      "text/plain": [
       "<matplotlib.contour.QuadContourSet at 0x13e7b5e50>"
      ]
     },
     "execution_count": 88,
     "metadata": {},
     "output_type": "execute_result"
    },
    {
     "data": {
      "image/png": "[encoded data removed]",
      "text/plain": [
       "<Figure size 432x288 with 1 Axes>"
      ]
     },
     "metadata": {
      "needs_background": "light"
     },
     "output_type": "display_data"
    }
   ],
   "source": [
    "zs = [ [ f( xs[i,j], ys[i,j] ) for j in range(len(ys)) ] for i in range(len(xs)) ]\n",
    "plt.contourf(xs, ys, zs, levels=100, cmap='coolwarm')"
   ]
  },
  {
   "cell_type": "code",
   "execution_count": 96,
   "id": "a54af9de-7978-475e-801e-58773d55ebbc",
   "metadata": {},
   "outputs": [
    {
     "data": {
      "text/plain": [
       "<matplotlib.collections.PathCollection at 0x13f1f4fd0>"
      ]
     },
     "execution_count": 96,
     "metadata": {},
     "output_type": "execute_result"
    },
    {
     "data": {
      "image/png": "[encoded data removed]",
      "text/plain": [
       "<Figure size 432x288 with 1 Axes>"
      ]
     },
     "metadata": {
      "needs_background": "light"
     },
     "output_type": "display_data"
    }
   ],
   "source": [
    "def predict(x,y,clf):\n",
    "    return clf.predict([[x,y]])[0] # extract the single label\n",
    "\n",
    "zs = [ [ predict( xs[i,j], ys[i,j], knn ) for j in range(len(ys)) ] for i in range(len(xs)) ]\n",
    "plt.contourf(xs, ys, zs, levels=100, cmap='YlGn')\n",
    "plt.scatter(X[Y==0,0], X[Y==0,1], c='b')\n",
    "plt.scatter(X[Y==1,0], X[Y==1,1], c='r')"
   ]
  },
  {
   "cell_type": "markdown",
   "id": "1976353b-43ab-4888-8c33-03f8accd7de4",
   "metadata": {},
   "source": [
    "## Now try with a support vector machine (SVM)"
   ]
  },
  {
   "cell_type": "code",
   "execution_count": 122,
   "id": "b5ebc7d1-d93f-4628-aa31-1298faf8e19d",
   "metadata": {},
   "outputs": [
    {
     "data": {
      "text/plain": [
       "array([1., 1., 1.])"
      ]
     },
     "execution_count": 122,
     "metadata": {},
     "output_type": "execute_result"
    }
   ],
   "source": [
    "clf = SVC(kernel='poly', degree=30)\n",
    "clf.fit(X,Y)\n",
    "\n",
    "# We can now ask the knn to classify new points!\n",
    "# They call this \"predict\"\n",
    "# The .predict() method needs an input matrix of the same cols as X\n",
    "# It will return an array of predicted labels, one for each row\n",
    "clf.predict([ [7,2.5], [5,2.7], [5,2.9] ])"
   ]
  },
  {
   "cell_type": "code",
   "execution_count": 123,
   "id": "7f6a1c2c-67db-4f37-b907-62e2fde490db",
   "metadata": {},
   "outputs": [
    {
     "data": {
      "text/plain": [
       "<matplotlib.collections.PathCollection at 0x14126acd0>"
      ]
     },
     "execution_count": 123,
     "metadata": {},
     "output_type": "execute_result"
    },
    {
     "data": {
      "image/png": "[encoded data removed]",
      "text/plain": [
       "<Figure size 432x288 with 1 Axes>"
      ]
     },
     "metadata": {
      "needs_background": "light"
     },
     "output_type": "display_data"
    }
   ],
   "source": [
    "zs = [ [ predict( xs[i,j], ys[i,j], clf ) for j in range(len(ys)) ] for i in range(len(xs)) ]\n",
    "\n",
    "plt.contourf(xs, ys, zs, levels=100, cmap='coolwarm')\n",
    "plt.scatter(X[Y==0,0], X[Y==0,1], c='k')\n",
    "plt.scatter(X[Y==1,0], X[Y==1,1], c='g')"
   ]
  },
  {
   "cell_type": "code",
   "execution_count": null,
   "id": "844c48b4-7fef-4fed-9ad8-4fe4b765cc96",
   "metadata": {},
   "outputs": [],
   "source": []
  }
 ],
 "metadata": {
  "kernelspec": {
   "display_name": "Python 3 (ipykernel)",
   "language": "python",
   "name": "python3"
  },
  "language_info": {
   "codemirror_mode": {
    "name": "ipython",
    "version": 3
   },
   "file_extension": ".py",
   "mimetype": "text/x-python",
   "name": "python",
   "nbconvert_exporter": "python",
   "pygments_lexer": "ipython3",
   "version": "3.8.12"
  }
 },
 "nbformat": 4,
 "nbformat_minor": 5
}
