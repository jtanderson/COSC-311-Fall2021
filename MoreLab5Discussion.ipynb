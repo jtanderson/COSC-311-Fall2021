{
 "cells": [
  {
   "cell_type": "code",
   "execution_count": 26,
   "id": "68b3af18-7dc0-4875-a9ad-654df0848419",
   "metadata": {},
   "outputs": [],
   "source": [
    "import numpy as np\n",
    "import numpy.linalg as la\n",
    "from matplotlib import pyplot as plt\n",
    "import copy"
   ]
  },
  {
   "cell_type": "code",
   "execution_count": 3,
   "id": "6d4063ee-22b2-4089-9f5c-f59015ab737e",
   "metadata": {},
   "outputs": [],
   "source": [
    "data = np.array([[1,2,3],[3,4,5],[5,6,4],[4,3,2]])"
   ]
  },
  {
   "cell_type": "code",
   "execution_count": 30,
   "id": "ac7118b4-a723-4361-9d46-dafe922ea7ae",
   "metadata": {},
   "outputs": [
    {
     "data": {
      "text/plain": [
       "array([3.25, 3.75, 3.5 ])"
      ]
     },
     "execution_count": 30,
     "metadata": {},
     "output_type": "execute_result"
    }
   ],
   "source": [
    "np.mean(data, axis=0)"
   ]
  },
  {
   "cell_type": "code",
   "execution_count": 42,
   "id": "f0107072-72d3-4c82-aa1b-88d94ec6efc2",
   "metadata": {},
   "outputs": [
    {
     "data": {
      "text/plain": [
       "array([[5, 6, 4],\n",
       "       [3, 4, 5]])"
      ]
     },
     "execution_count": 42,
     "metadata": {},
     "output_type": "execute_result"
    }
   ],
   "source": [
    "k = 2\n",
    "np.random.shuffle(data)\n",
    "data[:k]"
   ]
  },
  {
   "cell_type": "code",
   "execution_count": 23,
   "id": "80ef68ce-46e7-4d5c-b29c-4808fc0ede7b",
   "metadata": {},
   "outputs": [],
   "source": [
    "class KMeansClassifier:\n",
    "    \"\"\"Given some data, determines k means to be used for classification\"\"\"\n",
    "    def __init__(self):\n",
    "        self.means = []\n",
    "    \n",
    "    def train(self, data, k):\n",
    "        \"\"\"Run the k-means algorithm, stores the final means in self.means\"\"\"\n",
    "        \n",
    "        # so we can be destructive\n",
    "        copy_data = np.copy(data)\n",
    "        \n",
    "        # 1. choose k points at random from data\n",
    "        \n",
    "        # not necessary if data is all numeric\n",
    "        # copy_data = copy.deepcopy(data)\n",
    "        \n",
    "        np.random.shuffle(copy_data)\n",
    "        self.means = data[:k] # grab the first k rows after a random shuff\n",
    "        \n",
    "        # 2. loop the following until self.means stops changing\n",
    "        #    - for each self.means as m, gather all rows of copy_data\n",
    "        #         for which m is the closest mean, call this group_m\n",
    "        count = 0\n",
    "        while count < 1000: # want to add a convergence check\n",
    "            for i in range(len(self.means)):\n",
    "                group = [] # set of rows in copy_data for which self.means[i] is the closest mean\n",
    "                           # aggregated group as a matrix, rows are rows of data\n",
    "                for row in copy_data:\n",
    "                    distances = []\n",
    "                    for j in range(len(self.means)):\n",
    "                        # calculate distance to self.means[i]\n",
    "                        distances.append( la.norm(row - self.means[j]) )\n",
    "                    # if min distance is at index i, then np.vstack([ group, row ])\n",
    "                self.means[i] = np.mean(group, axis=0)\n",
    "        #    - re-assign self.means[m] = mean(group_m)\n",
    "    \n",
    "    \n",
    "    def test(self, x):\n",
    "        \"\"\"Return the mean closest to x among self.means\"\"\"\n",
    "        # find row of self.means that is the closest to x in euclidean distance\n",
    "        # return it\n",
    "        pass\n",
    "    "
   ]
  },
  {
   "cell_type": "code",
   "execution_count": null,
   "id": "a3c3f086-4295-418a-8fad-c4833e89c5db",
   "metadata": {},
   "outputs": [],
   "source": [
    "# when testing the iris data, for instance, know beforehand \n",
    "# (in a practical setting, perhaps by consulting with a bonanist),\n",
    "# that there should be 3 groups, so set k = 3 when training\n"
   ]
  },
  {
   "cell_type": "code",
   "execution_count": 43,
   "id": "9f7c118a-7277-467c-aee7-d6ae5a47ad51",
   "metadata": {},
   "outputs": [
    {
     "data": {
      "text/plain": [
       "array([[5, 6, 4],\n",
       "       [3, 4, 5],\n",
       "       [1, 2, 3],\n",
       "       [4, 3, 2]])"
      ]
     },
     "execution_count": 43,
     "metadata": {},
     "output_type": "execute_result"
    }
   ],
   "source": [
    "data"
   ]
  },
  {
   "cell_type": "code",
   "execution_count": 53,
   "id": "1ff7a0ae-1064-4f1e-9a12-f1bb493de79e",
   "metadata": {},
   "outputs": [
    {
     "data": {
      "text/plain": [
       "array([[5, 6, 4],\n",
       "       [3, 4, 5],\n",
       "       [1, 2, 3],\n",
       "       [4, 3, 2],\n",
       "       [1, 1, 1]])"
      ]
     },
     "execution_count": 53,
     "metadata": {},
     "output_type": "execute_result"
    }
   ],
   "source": [
    "np.vstack([data,np.array([[1,1,1]]) ])"
   ]
  },
  {
   "cell_type": "code",
   "execution_count": 54,
   "id": "24d29717-4cca-441b-8077-01dab6462528",
   "metadata": {},
   "outputs": [
    {
     "data": {
      "text/plain": [
       "array([[5, 6, 4],\n",
       "       [3, 4, 5],\n",
       "       [1, 2, 3],\n",
       "       [4, 3, 2]])"
      ]
     },
     "execution_count": 54,
     "metadata": {},
     "output_type": "execute_result"
    }
   ],
   "source": [
    "data"
   ]
  },
  {
   "cell_type": "code",
   "execution_count": 55,
   "id": "0e8e978b-29f4-42fa-9371-73b07b6174e8",
   "metadata": {},
   "outputs": [
    {
     "name": "stdout",
     "output_type": "stream",
     "text": [
      "[5 6 4]\n",
      "[3 4 5]\n",
      "[1 2 3]\n",
      "[4 3 2]\n"
     ]
    }
   ],
   "source": [
    "for row in data:\n",
    "    print(row)"
   ]
  },
  {
   "cell_type": "code",
   "execution_count": null,
   "id": "0f3e8b04-88f2-4874-ab9c-6491ce98e838",
   "metadata": {},
   "outputs": [],
   "source": []
  }
 ],
 "metadata": {
  "kernelspec": {
   "display_name": "Python 3 (ipykernel)",
   "language": "python",
   "name": "python3"
  },
  "language_info": {
   "codemirror_mode": {
    "name": "ipython",
    "version": 3
   },
   "file_extension": ".py",
   "mimetype": "text/x-python",
   "name": "python",
   "nbconvert_exporter": "python",
   "pygments_lexer": "ipython3",
   "version": "3.8.8"
  }
 },
 "nbformat": 4,
 "nbformat_minor": 5
}
