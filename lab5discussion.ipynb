{
 "cells": [
  {
   "cell_type": "code",
   "execution_count": 1,
   "id": "93972167-8226-4d96-97e6-aea14f219a59",
   "metadata": {},
   "outputs": [],
   "source": [
    "import numpy as np\n",
    "import numpy.linalg as la\n",
    "from collections import Counter"
   ]
  },
  {
   "cell_type": "code",
   "execution_count": 2,
   "id": "c7019837-f16b-438e-affb-f63c0f6456c7",
   "metadata": {},
   "outputs": [],
   "source": [
    "class KNNClassifier:\n",
    "    def __init__(self, k):\n",
    "        # set instance variable k for the newly created object\n",
    "        self.k = k\n",
    "        \n",
    "    def train(data):\n",
    "        self.data = data\n",
    "    \n",
    "    def predict(x):\n",
    "        \"\"\"Return the knn decision for x using self.data to vote\"\"\"\n",
    "        pass"
   ]
  },
  {
   "cell_type": "code",
   "execution_count": 3,
   "id": "974957b9-2b4d-487d-8475-05989c5cb488",
   "metadata": {},
   "outputs": [],
   "source": [
    "clf = KNNClassifier(5)"
   ]
  },
  {
   "cell_type": "code",
   "execution_count": 4,
   "id": "66cc8dae-b3d3-4e6a-938e-94ffb7fdfe91",
   "metadata": {},
   "outputs": [
    {
     "data": {
      "text/plain": [
       "5"
      ]
     },
     "execution_count": 4,
     "metadata": {},
     "output_type": "execute_result"
    }
   ],
   "source": [
    "clf.k"
   ]
  },
  {
   "cell_type": "code",
   "execution_count": 5,
   "id": "498d6c58-5711-4400-b489-af324e661284",
   "metadata": {},
   "outputs": [],
   "source": [
    "k = 3\n",
    "# n-by-d matrix of n samples in dimension d\n",
    "data = np.array([\n",
    "    [1,2,3],\n",
    "    [1,2,1],\n",
    "    [1,1,1],\n",
    "    [2,-1,2],\n",
    "    [34,1,-2],\n",
    "    [2,3,1],\n",
    "    [-1,-1,-1],\n",
    "    [2,-1,-3]\n",
    "])\n",
    "labels = np.random.choice(a=['Red', 'Blue'], p=[0.5,0.5], size=len(data) )"
   ]
  },
  {
   "cell_type": "code",
   "execution_count": 6,
   "id": "6a885eaf-491d-4172-bf65-f2c64599e6bc",
   "metadata": {},
   "outputs": [],
   "source": [
    "def norm(x):\n",
    "    return np.sqrt( np.sum( x ** 2 ))"
   ]
  },
  {
   "cell_type": "code",
   "execution_count": 7,
   "id": "a88bd5bd-dd83-495c-98e9-9fc5463d602d",
   "metadata": {},
   "outputs": [],
   "source": [
    "x = np.array([0.5,2,1])"
   ]
  },
  {
   "cell_type": "code",
   "execution_count": 8,
   "id": "45adced7-66c2-4672-8eac-9b7770a359db",
   "metadata": {},
   "outputs": [
    {
     "name": "stdout",
     "output_type": "stream",
     "text": [
      "[('Red', 2.0615528128088303), ('Red', 0.5), ('Blue', 1.118033988749895), ('Blue', 3.5), ('Blue', 33.64892271678248), ('Blue', 1.8027756377319946), ('Blue', 3.905124837953327), ('Blue', 5.220153254455275)]\n"
     ]
    },
    {
     "data": {
      "text/plain": [
       "'Red'"
      ]
     },
     "execution_count": 8,
     "metadata": {},
     "output_type": "execute_result"
    }
   ],
   "source": [
    "# the objective is now to find the k-closest points\n",
    "# of data to x (in terms of l2 distance)\n",
    "\n",
    "# for point in data:\n",
    "#     print(f'distance from {point} to {x} is {norm(x-point)}')\n",
    "\n",
    "distances = [\n",
    "    # pair up each distance with the label of its point\n",
    "    # i.e. put distance to point i with label i\n",
    "    (labels[i], norm(x-data[i])) \n",
    "    for i in range(len(data))\n",
    "]\n",
    "\n",
    "print(distances)\n",
    "\n",
    "# option 1: find min, remove, repeat k times\n",
    "# k_nearest = []\n",
    "# for i in range(k):\n",
    "#     k_nearest += [min(distances)]\n",
    "#     distances.remove(min(distances))\n",
    "\n",
    "\n",
    "# option 2: sort and take first k\n",
    "# the sorted function takes a 'key' parameter which\n",
    "# needs to be a function that returs the value to be used\n",
    "# in each comparison\n",
    "\n",
    "# without lamdba:\n",
    "def getSecondElement(x):\n",
    "    return x[1]\n",
    "k_nearest = sorted(distances, key=getSecondElement)\n",
    "\n",
    "k_nearest = sorted(distances, key=lambda x: x[1])\n",
    "\n",
    "max(Counter([p[0] for p in k_nearest[:k]]))"
   ]
  },
  {
   "cell_type": "code",
   "execution_count": 9,
   "id": "bc32cca6-6c98-499c-a4b3-211277aa89b2",
   "metadata": {},
   "outputs": [
    {
     "data": {
      "text/plain": [
       "[1, 2, 3, 5, 4]"
      ]
     },
     "execution_count": 9,
     "metadata": {},
     "output_type": "execute_result"
    }
   ],
   "source": [
    "l = [1,2,3,4,5]\n",
    "sorted(l, key=lambda x: np.random.random())"
   ]
  },
  {
   "cell_type": "code",
   "execution_count": 32,
   "id": "06ae13ae-4690-440a-8f40-9ac0d5a686ac",
   "metadata": {},
   "outputs": [
    {
     "data": {
      "text/plain": [
       "array([[ 1,  2,  3],\n",
       "       [-1, -1, -1],\n",
       "       [ 2, -1,  2],\n",
       "       [ 1,  1,  1]])"
      ]
     },
     "execution_count": 32,
     "metadata": {},
     "output_type": "execute_result"
    }
   ],
   "source": [
    "data\n",
    "np.random.shuffle(data)\n",
    "data[:len(data)//2]"
   ]
  },
  {
   "cell_type": "code",
   "execution_count": null,
   "id": "51be732a-1348-4169-bf09-a7ef5d9758c6",
   "metadata": {},
   "outputs": [],
   "source": []
  }
 ],
 "metadata": {
  "kernelspec": {
   "display_name": "Python 3 (ipykernel)",
   "language": "python",
   "name": "python3"
  },
  "language_info": {
   "codemirror_mode": {
    "name": "ipython",
    "version": 3
   },
   "file_extension": ".py",
   "mimetype": "text/x-python",
   "name": "python",
   "nbconvert_exporter": "python",
   "pygments_lexer": "ipython3",
   "version": "3.8.12"
  }
 },
 "nbformat": 4,
 "nbformat_minor": 5
}
