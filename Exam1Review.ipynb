{
 "cells": [
  {
   "cell_type": "markdown",
   "id": "057f0ed6-842c-49da-a5bc-602f170135df",
   "metadata": {},
   "source": [
    "# Pivoting\n",
    "\n",
    "Need three keys to use from your dataframe. The `index` and `columns` keys will be 'zipped' together to form `(x,y)` pairs and then the ` values` key is the function value associated to `(x,y)`.\n",
    "\n",
    "Things you need to make this happen is that:\n",
    "- The `index` and `columns` columns must form a set of unique pairs. They have to have the same number of "
   ]
  },
  {
   "cell_type": "code",
   "execution_count": 1,
   "id": "1fe96c7a-307a-428d-93c2-77ade2c10cc0",
   "metadata": {},
   "outputs": [],
   "source": [
    "import pandas as pd"
   ]
  },
  {
   "cell_type": "code",
   "execution_count": 9,
   "id": "64ea4417-4232-42c6-b536-835be4d9fa9d",
   "metadata": {},
   "outputs": [],
   "source": [
    "df = pd.DataFrame(data={\n",
    "    'column1': ['A', 'B', 'C', 'D'],\n",
    "    'column2': [1, 2, 1, 2],\n",
    "    'column3': ['X', 'X', 'Y', 'Y']\n",
    "})"
   ]
  },
  {
   "cell_type": "code",
   "execution_count": 10,
   "id": "a66a0092-e37b-4103-8095-9a1cae7e9fc7",
   "metadata": {},
   "outputs": [
    {
     "data": {
      "text/html": [
       "<div>\n",
       "<style scoped>\n",
       "    .dataframe tbody tr th:only-of-type {\n",
       "        vertical-align: middle;\n",
       "    }\n",
       "\n",
       "    .dataframe tbody tr th {\n",
       "        vertical-align: top;\n",
       "    }\n",
       "\n",
       "    .dataframe thead th {\n",
       "        text-align: right;\n",
       "    }\n",
       "</style>\n",
       "<table border=\"1\" class=\"dataframe\">\n",
       "  <thead>\n",
       "    <tr style=\"text-align: right;\">\n",
       "      <th></th>\n",
       "      <th>column1</th>\n",
       "      <th>column2</th>\n",
       "      <th>column3</th>\n",
       "    </tr>\n",
       "  </thead>\n",
       "  <tbody>\n",
       "    <tr>\n",
       "      <th>0</th>\n",
       "      <td>A</td>\n",
       "      <td>1</td>\n",
       "      <td>X</td>\n",
       "    </tr>\n",
       "    <tr>\n",
       "      <th>1</th>\n",
       "      <td>B</td>\n",
       "      <td>2</td>\n",
       "      <td>X</td>\n",
       "    </tr>\n",
       "    <tr>\n",
       "      <th>2</th>\n",
       "      <td>C</td>\n",
       "      <td>1</td>\n",
       "      <td>Y</td>\n",
       "    </tr>\n",
       "    <tr>\n",
       "      <th>3</th>\n",
       "      <td>D</td>\n",
       "      <td>2</td>\n",
       "      <td>Y</td>\n",
       "    </tr>\n",
       "  </tbody>\n",
       "</table>\n",
       "</div>"
      ],
      "text/plain": [
       "  column1  column2 column3\n",
       "0       A        1       X\n",
       "1       B        2       X\n",
       "2       C        1       Y\n",
       "3       D        2       Y"
      ]
     },
     "execution_count": 10,
     "metadata": {},
     "output_type": "execute_result"
    }
   ],
   "source": [
    "df"
   ]
  },
  {
   "cell_type": "code",
   "execution_count": 11,
   "id": "c7f338d0-3fd2-4b88-bd8f-1269e208ed0b",
   "metadata": {},
   "outputs": [
    {
     "data": {
      "text/html": [
       "<div>\n",
       "<style scoped>\n",
       "    .dataframe tbody tr th:only-of-type {\n",
       "        vertical-align: middle;\n",
       "    }\n",
       "\n",
       "    .dataframe tbody tr th {\n",
       "        vertical-align: top;\n",
       "    }\n",
       "\n",
       "    .dataframe thead th {\n",
       "        text-align: right;\n",
       "    }\n",
       "</style>\n",
       "<table border=\"1\" class=\"dataframe\">\n",
       "  <thead>\n",
       "    <tr style=\"text-align: right;\">\n",
       "      <th>column3</th>\n",
       "      <th>X</th>\n",
       "      <th>Y</th>\n",
       "    </tr>\n",
       "    <tr>\n",
       "      <th>column2</th>\n",
       "      <th></th>\n",
       "      <th></th>\n",
       "    </tr>\n",
       "  </thead>\n",
       "  <tbody>\n",
       "    <tr>\n",
       "      <th>1</th>\n",
       "      <td>A</td>\n",
       "      <td>C</td>\n",
       "    </tr>\n",
       "    <tr>\n",
       "      <th>2</th>\n",
       "      <td>B</td>\n",
       "      <td>D</td>\n",
       "    </tr>\n",
       "  </tbody>\n",
       "</table>\n",
       "</div>"
      ],
      "text/plain": [
       "column3  X  Y\n",
       "column2      \n",
       "1        A  C\n",
       "2        B  D"
      ]
     },
     "execution_count": 11,
     "metadata": {},
     "output_type": "execute_result"
    }
   ],
   "source": [
    "df.pivot(index='column2', columns='column3', values='column1')"
   ]
  },
  {
   "cell_type": "code",
   "execution_count": 12,
   "id": "5a402797-728b-4fbc-8ef9-605eb787a464",
   "metadata": {},
   "outputs": [
    {
     "data": {
      "text/html": [
       "<div>\n",
       "<style scoped>\n",
       "    .dataframe tbody tr th:only-of-type {\n",
       "        vertical-align: middle;\n",
       "    }\n",
       "\n",
       "    .dataframe tbody tr th {\n",
       "        vertical-align: top;\n",
       "    }\n",
       "\n",
       "    .dataframe thead th {\n",
       "        text-align: right;\n",
       "    }\n",
       "</style>\n",
       "<table border=\"1\" class=\"dataframe\">\n",
       "  <thead>\n",
       "    <tr style=\"text-align: right;\">\n",
       "      <th>column2</th>\n",
       "      <th>1</th>\n",
       "      <th>2</th>\n",
       "    </tr>\n",
       "    <tr>\n",
       "      <th>column3</th>\n",
       "      <th></th>\n",
       "      <th></th>\n",
       "    </tr>\n",
       "  </thead>\n",
       "  <tbody>\n",
       "    <tr>\n",
       "      <th>X</th>\n",
       "      <td>A</td>\n",
       "      <td>B</td>\n",
       "    </tr>\n",
       "    <tr>\n",
       "      <th>Y</th>\n",
       "      <td>C</td>\n",
       "      <td>D</td>\n",
       "    </tr>\n",
       "  </tbody>\n",
       "</table>\n",
       "</div>"
      ],
      "text/plain": [
       "column2  1  2\n",
       "column3      \n",
       "X        A  B\n",
       "Y        C  D"
      ]
     },
     "execution_count": 12,
     "metadata": {},
     "output_type": "execute_result"
    }
   ],
   "source": [
    "df.pivot(index='column3', columns='column2', values='column1')"
   ]
  },
  {
   "cell_type": "code",
   "execution_count": 18,
   "id": "5025c3e3-590a-49f0-8ee8-56aeb9d4dd92",
   "metadata": {},
   "outputs": [
    {
     "name": "stdout",
     "output_type": "stream",
     "text": [
      "  column1  column2 column3\n",
      "0       A        1       X\n",
      "1       B        2       Y\n",
      "2       C        3       Z\n",
      "3       D        4       A\n",
      "=====\n",
      "column2    1    2    3    4\n",
      "column3                    \n",
      "A        NaN  NaN  NaN    D\n",
      "X          A  NaN  NaN  NaN\n",
      "Y        NaN    B  NaN  NaN\n",
      "Z        NaN  NaN    C  NaN\n"
     ]
    }
   ],
   "source": [
    "# An example that still has same number of unique values in `index` and `columns` fields\n",
    "# but not every pair of those unique values has an associated `values` entry\n",
    "\n",
    "df = pd.DataFrame(data={\n",
    "    'column1': ['A', 'B', 'C', 'D'],\n",
    "    'column2': [1, 2, 3, 4],\n",
    "    'column3': ['X', 'Y', 'Z', 'A']\n",
    "})\n",
    "\n",
    "print(df)\n",
    "print(\"=====\")\n",
    "print(df.pivot(index='column3', columns='column2', values='column1'))"
   ]
  },
  {
   "cell_type": "code",
   "execution_count": null,
   "id": "be658ff3-e762-44bf-bd68-ef552163dbea",
   "metadata": {},
   "outputs": [],
   "source": []
  }
 ],
 "metadata": {
  "kernelspec": {
   "display_name": "Python 3 (ipykernel)",
   "language": "python",
   "name": "python3"
  },
  "language_info": {
   "codemirror_mode": {
    "name": "ipython",
    "version": 3
   },
   "file_extension": ".py",
   "mimetype": "text/x-python",
   "name": "python",
   "nbconvert_exporter": "python",
   "pygments_lexer": "ipython3",
   "version": "3.8.12"
  }
 },
 "nbformat": 4,
 "nbformat_minor": 5
}
