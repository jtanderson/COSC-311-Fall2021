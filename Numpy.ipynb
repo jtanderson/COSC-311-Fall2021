{
 "cells": [
  {
   "cell_type": "code",
   "execution_count": 1,
   "id": "96abb9b0",
   "metadata": {},
   "outputs": [],
   "source": [
    "# like C++ #include, Python can import modules\n",
    "import numpy as np    # now we can refer to numpy simply as \"np\"\n",
    "#from numpy import *  # imports one single thing, into global namespace, as if we did \"using namespace numpy\""
   ]
  },
  {
   "cell_type": "code",
   "execution_count": 1,
   "id": "3acf27ad-a174-486a-b355-9aed232aab99",
   "metadata": {},
   "outputs": [],
   "source": [
    "import seaborn as sb"
   ]
  },
  {
   "cell_type": "code",
   "execution_count": 2,
   "id": "99f117cf-eee2-4470-898e-66675b530b6a",
   "metadata": {},
   "outputs": [
    {
     "name": "stdout",
     "output_type": "stream",
     "text": [
      "Help on package seaborn:\n",
      "\n",
      "NAME\n",
      "    seaborn - # Import seaborn objects\n",
      "\n",
      "PACKAGE CONTENTS\n",
      "    _core\n",
      "    _decorators\n",
      "    _docstrings\n",
      "    _statistics\n",
      "    _testing\n",
      "    algorithms\n",
      "    apionly\n",
      "    axisgrid\n",
      "    categorical\n",
      "    cm\n",
      "    colors (package)\n",
      "    conftest\n",
      "    distributions\n",
      "    external (package)\n",
      "    linearmodels\n",
      "    matrix\n",
      "    miscplot\n",
      "    palettes\n",
      "    rcmod\n",
      "    regression\n",
      "    relational\n",
      "    tests (package)\n",
      "    timeseries\n",
      "    utils\n",
      "    widgets\n",
      "\n",
      "DATA\n",
      "    crayons = {'Almond': '#EFDECD', 'Antique Brass': '#CD9575', 'Apricot':...\n",
      "    xkcd_rgb = {'acid green': '#8ffe09', 'adobe': '#bd6c48', 'algae': '#54...\n",
      "\n",
      "VERSION\n",
      "    0.11.2\n",
      "\n",
      "FILE\n",
      "    /home/jtanderson/.local/lib/python3.8/site-packages/seaborn/__init__.py\n",
      "\n",
      "\n"
     ]
    }
   ],
   "source": [
    "help(sb)"
   ]
  },
  {
   "cell_type": "code",
   "execution_count": 2,
   "id": "05cfdeb5",
   "metadata": {},
   "outputs": [],
   "source": [
    "# python has a dir(.) method to see all the methods/attributes on objects"
   ]
  },
  {
   "cell_type": "code",
   "execution_count": 3,
   "id": "d9dbc17a",
   "metadata": {},
   "outputs": [],
   "source": [
    "# main data structure in numpy is the array/ndarray\n",
    "x = [1,2,3,4]"
   ]
  },
  {
   "cell_type": "code",
   "execution_count": 6,
   "id": "869d5b07",
   "metadata": {},
   "outputs": [],
   "source": [
    "x2 = np.array(x)"
   ]
  },
  {
   "cell_type": "code",
   "execution_count": 7,
   "id": "108da3ef",
   "metadata": {},
   "outputs": [
    {
     "name": "stdout",
     "output_type": "stream",
     "text": [
      "[1, 2, 3, 4]\n"
     ]
    }
   ],
   "source": [
    "print(x)"
   ]
  },
  {
   "cell_type": "code",
   "execution_count": 8,
   "id": "16f063da",
   "metadata": {},
   "outputs": [
    {
     "name": "stdout",
     "output_type": "stream",
     "text": [
      "[1 2 3 4]\n"
     ]
    }
   ],
   "source": [
    "print(x2)"
   ]
  },
  {
   "cell_type": "code",
   "execution_count": 9,
   "id": "fedc3f1e",
   "metadata": {},
   "outputs": [
    {
     "data": {
      "text/plain": [
       "numpy.ndarray"
      ]
     },
     "execution_count": 9,
     "metadata": {},
     "output_type": "execute_result"
    }
   ],
   "source": [
    "type(x2)"
   ]
  },
  {
   "cell_type": "code",
   "execution_count": 11,
   "id": "1827c5a4",
   "metadata": {},
   "outputs": [],
   "source": [
    "x = np.array([1,2,3,4])\n",
    "y = np.array([4,5,6,7])"
   ]
  },
  {
   "cell_type": "code",
   "execution_count": 12,
   "id": "a022715a",
   "metadata": {},
   "outputs": [
    {
     "name": "stdout",
     "output_type": "stream",
     "text": [
      "[ 5  7  9 11]\n"
     ]
    }
   ],
   "source": [
    "print(x + y)"
   ]
  },
  {
   "cell_type": "code",
   "execution_count": 13,
   "id": "59114cd6",
   "metadata": {},
   "outputs": [
    {
     "data": {
      "text/plain": [
       "array([1, 2, 3, 4])"
      ]
     },
     "execution_count": 13,
     "metadata": {},
     "output_type": "execute_result"
    }
   ],
   "source": [
    "x"
   ]
  },
  {
   "cell_type": "code",
   "execution_count": 14,
   "id": "6d0f6a86",
   "metadata": {},
   "outputs": [
    {
     "data": {
      "text/plain": [
       "[1, 2, 3, 4]"
      ]
     },
     "execution_count": 14,
     "metadata": {},
     "output_type": "execute_result"
    }
   ],
   "source": [
    "list(x)"
   ]
  },
  {
   "cell_type": "code",
   "execution_count": 15,
   "id": "1beaf3f6",
   "metadata": {},
   "outputs": [
    {
     "data": {
      "text/plain": [
       "[1, 2, 3, 4, 4, 5, 6, 7]"
      ]
     },
     "execution_count": 15,
     "metadata": {},
     "output_type": "execute_result"
    }
   ],
   "source": [
    "list(x) + list(y)"
   ]
  },
  {
   "cell_type": "code",
   "execution_count": 16,
   "id": "5e84777b",
   "metadata": {},
   "outputs": [
    {
     "data": {
      "text/plain": [
       "array([1.        , 1.41421356, 1.73205081, 2.        ])"
      ]
     },
     "execution_count": 16,
     "metadata": {},
     "output_type": "execute_result"
    }
   ],
   "source": [
    "np.sqrt(x)"
   ]
  },
  {
   "cell_type": "code",
   "execution_count": 17,
   "id": "3b604240",
   "metadata": {},
   "outputs": [
    {
     "data": {
      "text/plain": [
       "array([10, 20, 30, 40])"
      ]
     },
     "execution_count": 17,
     "metadata": {},
     "output_type": "execute_result"
    }
   ],
   "source": [
    "x * 10"
   ]
  },
  {
   "cell_type": "code",
   "execution_count": 28,
   "id": "2d10482f",
   "metadata": {},
   "outputs": [],
   "source": [
    "A = np.array([\n",
    "    [2,3,4],\n",
    "    [3,1,0],\n",
    "    [0,1,1]\n",
    "])\n",
    "\n",
    "x = np.array([1,3,4])"
   ]
  },
  {
   "cell_type": "code",
   "execution_count": 29,
   "id": "22459975",
   "metadata": {},
   "outputs": [
    {
     "data": {
      "text/plain": [
       "array([[ 2,  9, 16],\n",
       "       [ 3,  3,  0],\n",
       "       [ 0,  3,  4]])"
      ]
     },
     "execution_count": 29,
     "metadata": {},
     "output_type": "execute_result"
    }
   ],
   "source": [
    "A * x  # will broadcast the 1x3 into a 3x3 by vertically copying,\n",
    "       # then does element-wise multiplication"
   ]
  },
  {
   "cell_type": "code",
   "execution_count": 30,
   "id": "6f85292b",
   "metadata": {},
   "outputs": [
    {
     "data": {
      "text/plain": [
       "array([27,  6,  7])"
      ]
     },
     "execution_count": 30,
     "metadata": {},
     "output_type": "execute_result"
    }
   ],
   "source": [
    "# want the actual matrix-vector product: use the operator @\n",
    "A @ x"
   ]
  },
  {
   "cell_type": "code",
   "execution_count": 31,
   "id": "696561bc",
   "metadata": {},
   "outputs": [
    {
     "data": {
      "text/plain": [
       "(3, 3)"
      ]
     },
     "execution_count": 31,
     "metadata": {},
     "output_type": "execute_result"
    }
   ],
   "source": [
    "A.shape"
   ]
  },
  {
   "cell_type": "code",
   "execution_count": 32,
   "id": "8d883d49",
   "metadata": {},
   "outputs": [
    {
     "data": {
      "text/plain": [
       "(3,)"
      ]
     },
     "execution_count": 32,
     "metadata": {},
     "output_type": "execute_result"
    }
   ],
   "source": [
    "x.shape"
   ]
  },
  {
   "cell_type": "code",
   "execution_count": 33,
   "id": "5cb51f6f",
   "metadata": {},
   "outputs": [],
   "source": [
    "x = np.array([[1,3,4]])"
   ]
  },
  {
   "cell_type": "code",
   "execution_count": 34,
   "id": "13e77397",
   "metadata": {},
   "outputs": [
    {
     "data": {
      "text/plain": [
       "(1, 3)"
      ]
     },
     "execution_count": 34,
     "metadata": {},
     "output_type": "execute_result"
    }
   ],
   "source": [
    "x.shape"
   ]
  },
  {
   "cell_type": "code",
   "execution_count": 35,
   "id": "c510435d",
   "metadata": {},
   "outputs": [
    {
     "data": {
      "text/plain": [
       "array([[ 2,  9, 16],\n",
       "       [ 3,  3,  0],\n",
       "       [ 0,  3,  4]])"
      ]
     },
     "execution_count": 35,
     "metadata": {},
     "output_type": "execute_result"
    }
   ],
   "source": [
    "A*x"
   ]
  },
  {
   "cell_type": "code",
   "execution_count": 37,
   "id": "a3c3106f",
   "metadata": {},
   "outputs": [
    {
     "ename": "ValueError",
     "evalue": "matmul: Input operand 1 has a mismatch in its core dimension 0, with gufunc signature (n?,k),(k,m?)->(n?,m?) (size 1 is different from 3)",
     "output_type": "error",
     "traceback": [
      "\u001b[0;31m---------------------------------------------------------------------\u001b[0m",
      "\u001b[0;31mValueError\u001b[0m                          Traceback (most recent call last)",
      "\u001b[0;32m<ipython-input-37-87d114b63ea3>\u001b[0m in \u001b[0;36m<module>\u001b[0;34m\u001b[0m\n\u001b[0;32m----> 1\u001b[0;31m \u001b[0mA\u001b[0m \u001b[0;34m@\u001b[0m \u001b[0mx\u001b[0m \u001b[0;31m# will not work now because x is actually 1x3\u001b[0m\u001b[0;34m\u001b[0m\u001b[0;34m\u001b[0m\u001b[0m\n\u001b[0m",
      "\u001b[0;31mValueError\u001b[0m: matmul: Input operand 1 has a mismatch in its core dimension 0, with gufunc signature (n?,k),(k,m?)->(n?,m?) (size 1 is different from 3)"
     ]
    }
   ],
   "source": [
    "A @ x # will not work now because x is actually 1x3"
   ]
  },
  {
   "cell_type": "code",
   "execution_count": null,
   "id": "b985e749",
   "metadata": {},
   "outputs": [],
   "source": []
  }
 ],
 "metadata": {
  "kernelspec": {
   "display_name": "Python 3 (ipykernel)",
   "language": "python",
   "name": "python3"
  },
  "language_info": {
   "codemirror_mode": {
    "name": "ipython",
    "version": 3
   },
   "file_extension": ".py",
   "mimetype": "text/x-python",
   "name": "python",
   "nbconvert_exporter": "python",
   "pygments_lexer": "ipython3",
   "version": "3.8.12"
  }
 },
 "nbformat": 4,
 "nbformat_minor": 5
}
