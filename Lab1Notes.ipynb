{
 "cells": [
  {
   "cell_type": "code",
   "execution_count": 3,
   "id": "50bd117a",
   "metadata": {},
   "outputs": [
    {
     "data": {
      "text/plain": [
       "[(0, 0, 0),\n",
       " (0, 0, 1),\n",
       " (0, 0, 2),\n",
       " (0, 2, 0),\n",
       " (0, 2, 1),\n",
       " (0, 2, 2),\n",
       " (0, 4, 0),\n",
       " (0, 4, 1),\n",
       " (0, 4, 2),\n",
       " (1, 0, 0),\n",
       " (1, 0, 1),\n",
       " (1, 0, 2),\n",
       " (1, 2, 0),\n",
       " (1, 2, 1),\n",
       " (1, 2, 2),\n",
       " (1, 4, 0),\n",
       " (1, 4, 1),\n",
       " (1, 4, 2),\n",
       " (2, 0, 0),\n",
       " (2, 0, 1),\n",
       " (2, 0, 2),\n",
       " (2, 2, 0),\n",
       " (2, 2, 1),\n",
       " (2, 2, 2),\n",
       " (2, 4, 0),\n",
       " (2, 4, 1),\n",
       " (2, 4, 2),\n",
       " (3, 0, 0),\n",
       " (3, 0, 1),\n",
       " (3, 0, 2),\n",
       " (3, 2, 0),\n",
       " (3, 2, 1),\n",
       " (3, 2, 2),\n",
       " (3, 4, 0),\n",
       " (3, 4, 1),\n",
       " (3, 4, 2),\n",
       " (4, 0, 0),\n",
       " (4, 0, 1),\n",
       " (4, 0, 2),\n",
       " (4, 2, 0),\n",
       " (4, 2, 1),\n",
       " (4, 2, 2),\n",
       " (4, 4, 0),\n",
       " (4, 4, 1),\n",
       " (4, 4, 2),\n",
       " (5, 0, 0),\n",
       " (5, 0, 1),\n",
       " (5, 0, 2),\n",
       " (5, 2, 0),\n",
       " (5, 2, 1),\n",
       " (5, 2, 2),\n",
       " (5, 4, 0),\n",
       " (5, 4, 1),\n",
       " (5, 4, 2),\n",
       " (6, 0, 0),\n",
       " (6, 0, 1),\n",
       " (6, 0, 2),\n",
       " (6, 2, 0),\n",
       " (6, 2, 1),\n",
       " (6, 2, 2),\n",
       " (6, 4, 0),\n",
       " (6, 4, 1),\n",
       " (6, 4, 2),\n",
       " (7, 0, 0),\n",
       " (7, 0, 1),\n",
       " (7, 0, 2),\n",
       " (7, 2, 0),\n",
       " (7, 2, 1),\n",
       " (7, 2, 2),\n",
       " (7, 4, 0),\n",
       " (7, 4, 1),\n",
       " (7, 4, 2),\n",
       " (8, 0, 0),\n",
       " (8, 0, 1),\n",
       " (8, 0, 2),\n",
       " (8, 2, 0),\n",
       " (8, 2, 1),\n",
       " (8, 2, 2),\n",
       " (8, 4, 0),\n",
       " (8, 4, 1),\n",
       " (8, 4, 2),\n",
       " (9, 0, 0),\n",
       " (9, 0, 1),\n",
       " (9, 0, 2),\n",
       " (9, 2, 0),\n",
       " (9, 2, 1),\n",
       " (9, 2, 2),\n",
       " (9, 4, 0),\n",
       " (9, 4, 1),\n",
       " (9, 4, 2)]"
      ]
     },
     "execution_count": 3,
     "metadata": {},
     "output_type": "execute_result"
    }
   ],
   "source": [
    "[(i,j,k) \n",
    " for i in range(10) \n",
    " for j in range(5) if j % 2 == 0\n",
    " for k in range(3)]"
   ]
  },
  {
   "cell_type": "code",
   "execution_count": 4,
   "id": "8830e20c",
   "metadata": {},
   "outputs": [],
   "source": [
    "from collections import Counter"
   ]
  },
  {
   "cell_type": "code",
   "execution_count": 5,
   "id": "c1c4cd96",
   "metadata": {},
   "outputs": [],
   "source": [
    "d = ['red', 'blue', 'red', 'red', 'blue']"
   ]
  },
  {
   "cell_type": "code",
   "execution_count": 6,
   "id": "2b329c4e",
   "metadata": {},
   "outputs": [],
   "source": [
    "c = Counter(d)"
   ]
  },
  {
   "cell_type": "code",
   "execution_count": 7,
   "id": "799b3f5b",
   "metadata": {},
   "outputs": [
    {
     "data": {
      "text/plain": [
       "Counter({'red': 3, 'blue': 2})"
      ]
     },
     "execution_count": 7,
     "metadata": {},
     "output_type": "execute_result"
    }
   ],
   "source": [
    "c"
   ]
  },
  {
   "cell_type": "code",
   "execution_count": 8,
   "id": "8134b315",
   "metadata": {},
   "outputs": [
    {
     "data": {
      "text/plain": [
       "3"
      ]
     },
     "execution_count": 8,
     "metadata": {},
     "output_type": "execute_result"
    }
   ],
   "source": [
    "d.count('red')"
   ]
  },
  {
   "cell_type": "code",
   "execution_count": 35,
   "id": "0f0e2209",
   "metadata": {},
   "outputs": [
    {
     "name": "stdout",
     "output_type": "stream",
     "text": [
      "['yeezy', 'rap', 'weird', 'r&b', 'drunk']\n",
      "{1: 0, 2: 0, 3: 0}\n",
      "{1: 2, 2: 1, 3: 3}\n",
      "{'Kesha': 2, 'Khalid': 1, 'Katy Perry': 3}\n"
     ]
    }
   ],
   "source": [
    "artists = [ {'id': 0, 'name': 'Kanye'}, {'id': 1, 'name': 'Kesha'}, {'id': 2, 'name': 'Khalid'}, {'id': 3, 'name': 'Katy Perry'}]\n",
    "songs = [ {'id': 0, 'name': 'Gold Digger'}]\n",
    "artist_songs = [ (0,0) ]\n",
    "artists_keywords = [ \n",
    "    (0, 'yeezy'), (0, 'rap'), (0, 'weird'), (0, 'r&b'), (0, 'drunk'),\n",
    "    (1, 'pop'), (1, 'weird'), (1, 'drunk'), \n",
    "    (2, 'r&b'), (2, 'texan'),\n",
    "    (3, 'pop'), (3, 'rap'), (3, 'drunk'), (3, 'yeezy')]\n",
    "\n",
    "# for a given artist, find the artist that shares the most keywords\n",
    "\n",
    "# 1. get the id of the given artist\n",
    "# 2. find their keywords (aggregate into a single list), target_keywords\n",
    "# 3. look at every other artist, iterate *their* keywords, counting how many are in target_keywords\n",
    "\n",
    "#artist_id = get_artist_id(name)\n",
    "\n",
    "artist_id = 0\n",
    "\n",
    "def get_artist_keywords(artist_id):\n",
    "    # get artist keywords\n",
    "    return [ t[1] for t in artists_keywords if t[0] == artist_id ]\n",
    "\n",
    "artist_keywords = get_artist_keywords(artist_id)\n",
    "print(artist_keywords)\n",
    "\n",
    "counts = { artist['id']: 0 for artist in artists if artist['id'] != artist_id }\n",
    "print(counts)\n",
    "\n",
    "# look at every other artist\n",
    "for artist in counts:\n",
    "    # find their keywords\n",
    "    test_keywords = get_artist_keywords(artist)\n",
    "    for test_keyword in test_keywords:\n",
    "        #print(f'testing to see if artist {artist} keyword {test_keyword} is in artist_keywords')\n",
    "        if test_keyword in artist_keywords:\n",
    "            # we found an overlap\n",
    "            counts[artist] += 1\n",
    "    \n",
    "    \n",
    "print(counts)\n",
    "print({ \n",
    "    [t['name'] for t in artists if t['id'] == counter][0]: counts[counter]\n",
    "    for counter in counts\n",
    "})"
   ]
  },
  {
   "cell_type": "code",
   "execution_count": null,
   "id": "775257d1",
   "metadata": {},
   "outputs": [],
   "source": []
  }
 ],
 "metadata": {
  "kernelspec": {
   "display_name": "Python 3 (ipykernel)",
   "language": "python",
   "name": "python3"
  },
  "language_info": {
   "codemirror_mode": {
    "name": "ipython",
    "version": 3
   },
   "file_extension": ".py",
   "mimetype": "text/x-python",
   "name": "python",
   "nbconvert_exporter": "python",
   "pygments_lexer": "ipython3",
   "version": "3.8.12"
  }
 },
 "nbformat": 4,
 "nbformat_minor": 5
}
