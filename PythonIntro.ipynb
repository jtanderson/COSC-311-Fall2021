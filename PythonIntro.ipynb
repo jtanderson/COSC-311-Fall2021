{
 "cells": [
  {
   "cell_type": "markdown",
   "id": "eccf0268",
   "metadata": {},
   "source": [
    "# Intro to Python\n",
    "\n",
    "(shift+Enter to \"run\" the cell)\n",
    "\n",
    "Lists:\n",
    "\n",
    "- Item 1\n",
    "- Item 2\n",
    "- Item 3"
   ]
  },
  {
   "cell_type": "code",
   "execution_count": 1,
   "id": "e823bfe2",
   "metadata": {},
   "outputs": [
    {
     "name": "stdout",
     "output_type": "stream",
     "text": [
      "Hello, world!\n",
      "10\n",
      "<class 'int'>\n",
      "Hello\n",
      "<class 'str'>\n"
     ]
    }
   ],
   "source": [
    "# Hello world -- # denotes a one-line comment in Python\n",
    "print(\"Hello, world!\")\n",
    "\n",
    "# Python is a dynamically typed language\n",
    "# means variables have types\n",
    "\n",
    "x = 10\n",
    "\n",
    "print(x)\n",
    "print(type(x))\n",
    "\n",
    "x = \"Hello\"\n",
    "\n",
    "print(x)\n",
    "print(type(x))"
   ]
  },
  {
   "cell_type": "markdown",
   "id": "33a5c806",
   "metadata": {},
   "source": [
    "## Built-in types"
   ]
  },
  {
   "cell_type": "code",
   "execution_count": 2,
   "id": "f9e653e8",
   "metadata": {},
   "outputs": [
    {
     "name": "stdout",
     "output_type": "stream",
     "text": [
      "l\n",
      "hello world\n",
      "hello 15\n",
      "the array x is [1, 2, 3, 4, 5]\n",
      "the length of x is 5\n",
      "3\n",
      "[3, 4]\n",
      "[1, 2, 3]\n",
      "[4, 5]\n",
      "{'key1': 134, 2: 2, 3.5: 'hello'}\n",
      "d['key1'] has value 134\n"
     ]
    }
   ],
   "source": [
    "# Useful types in Python\n",
    "# - integers\n",
    "x = 10\n",
    "\n",
    "# - floats\n",
    "x = 10.5\n",
    "\n",
    "# - Strings, behave like char[]\n",
    "x = \"hello\"\n",
    "\n",
    "print(x[3]) # index strings\n",
    "print(x + \" world\") # concat\n",
    "\n",
    "# f-strings look like f\"format string\" where format string may contain expressions enclosed by {...}\n",
    "print(f\"hello {10 + 5}\")\n",
    "\n",
    "# - Lists\n",
    "x = [1,2,3,4,5]\n",
    "\n",
    "print(f\"the array x is {x}\")\n",
    "print(f\"the length of x is {len(x)}\") # get the length\n",
    "print(x[2])   # 0-based indexing\n",
    "print(x[2:4]) # x[a:b] gets the sub-list of x[a, a+1, ..., b-1]\n",
    "print(x[:3])  # x[:b] gets x[0, 1, ..., b-1]\n",
    "print(x[3:])  # x[b:] gets x[b, b+1, ..., len(x)-1]\n",
    "\n",
    "# - Tuples\n",
    "x = (1,2,3,4,5)\n",
    "\n",
    "# - Dictionary: like a c++ map but where keys/values don't have to all have same types\n",
    "#   is a set of key-value pairs\n",
    "d = {\n",
    "    'key1': 134,\n",
    "    2: 2,\n",
    "    3.5: \"hello\"\n",
    "}\n",
    "\n",
    "print(d)\n",
    "print(f\"d['key1'] has value {d['key1']}\")"
   ]
  },
  {
   "cell_type": "markdown",
   "id": "24b5d40d",
   "metadata": {},
   "source": [
    "## Control Flow"
   ]
  },
  {
   "cell_type": "code",
   "execution_count": 3,
   "id": "b1dcc62f",
   "metadata": {},
   "outputs": [
    {
     "name": "stdout",
     "output_type": "stream",
     "text": [
      "hello\n",
      "Enlarging x...\n",
      "Enlarging x...\n",
      "Enlarging x...\n",
      "Enlarging x...\n",
      "Enlarging x...\n",
      "more output\n",
      "yes\n"
     ]
    }
   ],
   "source": [
    "# Conditionals\n",
    "# if < conditional >:\n",
    "# <tab or spaces><line 1 of body>\n",
    "# ...\n",
    "# <following expression without indentation\n",
    "\n",
    "x = 10\n",
    "y = 15\n",
    "\n",
    "if x < y:\n",
    "    print(\"hello\")\n",
    "    while x < y:\n",
    "        print(\"Enlarging x...\")\n",
    "        x += 1 # sadly, no ++, -- operators :(\n",
    "else:\n",
    "    print(\"goodbye\")\n",
    "\n",
    "print(\"more output\")\n",
    "\n",
    "x = [1, \"two\", 3, \"four\"]\n",
    "\n",
    "if 1 in x:\n",
    "    print(\"yes\")\n",
    "else:\n",
    "    print(\"no\")"
   ]
  },
  {
   "cell_type": "code",
   "execution_count": 4,
   "id": "6e8284bd",
   "metadata": {},
   "outputs": [
    {
     "name": "stdout",
     "output_type": "stream",
     "text": [
      "[1, 'two', 3, 'four']\n",
      "US\n",
      "USabcd\n",
      "Canada\n",
      "Canadaabcd\n",
      "Mexico\n",
      "Mexicoabcd\n",
      "France\n",
      "Franceabcd\n",
      "England\n",
      "Englandabcd\n",
      "0\n"
     ]
    }
   ],
   "source": [
    "# for loops do not take three blocks to run i.e. not for(init; condition; update)\n",
    "print(x) # x still exists because of the blocks up above!\n",
    "countries = [\"US\", \"Canada\", \"Mexico\", \"France\", \"England\"]\n",
    "\n",
    "name = \"Marina\"\n",
    "\n",
    "# use an iterator to the array\n",
    "for country in countries:\n",
    "    print(country)\n",
    "    #print(name)\n",
    "    country += \"abcd\"\n",
    "    print(country)\n",
    "    \n",
    "print(countries.index(\"US\"))"
   ]
  },
  {
   "cell_type": "code",
   "execution_count": 5,
   "id": "152921f1",
   "metadata": {},
   "outputs": [
    {
     "name": "stdout",
     "output_type": "stream",
     "text": [
      "['USabcd', 'Canadaabcd', 'Mexicoabcd', 'Franceabcd', 'Englandabcd']\n"
     ]
    }
   ],
   "source": [
    "# enumerate(.) function takes a list an creates \n",
    "# associations between list elements and their index\n",
    "\n",
    "for i in enumerate(countries):\n",
    "    #print(i)\n",
    "    #print(i[0]) # gets first element of the tuple\n",
    "    #print(i[1]) # second element\n",
    "    #i[1] += \"abcd\" # won't work because tuples are immutable and still just a copy\n",
    "    countries[i[0]] += \"abcd\"\n",
    "    #print(i[1])\n",
    "    \n",
    "print(countries)\n",
    "#for i, country in enumerate(countries):"
   ]
  },
  {
   "cell_type": "code",
   "execution_count": 6,
   "id": "0da39d39",
   "metadata": {},
   "outputs": [
    {
     "name": "stdout",
     "output_type": "stream",
     "text": [
      "5\n",
      "1\n"
     ]
    }
   ],
   "source": [
    "# Tangent: multiple assignment\n",
    "\n",
    "nums = (5,3,4,1)\n",
    "a,b,_,d = nums\n",
    "print(a)\n",
    "print(d)"
   ]
  },
  {
   "cell_type": "code",
   "execution_count": 7,
   "id": "d357fa66",
   "metadata": {},
   "outputs": [
    {
     "name": "stdout",
     "output_type": "stream",
     "text": [
      "['USabcdabcd', 'Canadaabcdabcd', 'Mexicoabcdabcd', 'Franceabcdabcd', 'Englandabcdabcd']\n"
     ]
    }
   ],
   "source": [
    "# enumerate(.) function takes a list an creates \n",
    "# associations between list elements and their index\n",
    "\n",
    "# can also \"trow away\" values for efficiency with \"_\" in place of variable\n",
    "# for i, _ in enumerate(countries): # ignores the second value in each tuple\n",
    "for i, country in enumerate(countries):\n",
    "    #print(i)\n",
    "    #print(i[0]) # gets first element of the tuple\n",
    "    #print(i[1]) # second element\n",
    "    #i[1] += \"abcd\" # won't work because tuples are immutable and still just a copy\n",
    "    countries[i] += \"abcd\"\n",
    "    #print(i[1])\n",
    "    \n",
    "print(countries)\n",
    "#for i, country in enumerate(countries):"
   ]
  },
  {
   "cell_type": "code",
   "execution_count": 8,
   "id": "7bc1dc41",
   "metadata": {},
   "outputs": [
    {
     "name": "stdout",
     "output_type": "stream",
     "text": [
      "d[key1] has value 3454\n",
      "d[2] has value 2\n",
      "d[3.5] has value hello\n",
      "d[goodbye] has value [1, 2, 3, 4]\n",
      "4\n"
     ]
    }
   ],
   "source": [
    "d = {\n",
    "    'key1': 134,\n",
    "    'key1': 3454,\n",
    "    2: 2,\n",
    "    3.5: \"hello\",\n",
    "    \"goodbye\": [1,2,3,4]\n",
    "}\n",
    "\n",
    "for i in d:\n",
    "    print(f\"d[{i}] has value {d[i]}\")\n",
    "    \n",
    "print(d[\"goodbye\"][3])"
   ]
  },
  {
   "cell_type": "code",
   "execution_count": 9,
   "id": "298a9d96",
   "metadata": {},
   "outputs": [
    {
     "name": "stdout",
     "output_type": "stream",
     "text": [
      "true\n"
     ]
    }
   ],
   "source": [
    "a = \"hello\"\n",
    "b = \"hello\"\n",
    "if a == b:\n",
    "    print('true')"
   ]
  },
  {
   "cell_type": "code",
   "execution_count": 10,
   "id": "262301e5",
   "metadata": {},
   "outputs": [
    {
     "name": "stdout",
     "output_type": "stream",
     "text": [
      "x is 100\n"
     ]
    }
   ],
   "source": [
    "x = 100\n",
    "if x == 100 or 5 < 6:           # is keyword works like == but compares actual pointers\n",
    "    print(\"x is 100\")"
   ]
  },
  {
   "cell_type": "code",
   "execution_count": 11,
   "id": "8dcad1aa",
   "metadata": {},
   "outputs": [
    {
     "name": "stdout",
     "output_type": "stream",
     "text": [
      "15\n"
     ]
    }
   ],
   "source": [
    "x = 15 if 100 % 2 == 0 else 10  # like in c++ we can do x = 100 % 2 == 0 ? 15 : 10\n",
    "print(x)"
   ]
  },
  {
   "cell_type": "code",
   "execution_count": 12,
   "id": "69428f37",
   "metadata": {},
   "outputs": [],
   "source": [
    "# Next time... list comprehension, functions, classes"
   ]
  },
  {
   "cell_type": "markdown",
   "id": "63a988c4",
   "metadata": {},
   "source": [
    "## Functions"
   ]
  },
  {
   "cell_type": "code",
   "execution_count": 13,
   "id": "50a6af29",
   "metadata": {},
   "outputs": [
    {
     "name": "stdout",
     "output_type": "stream",
     "text": [
      "25.5\n",
      "[1, 2, 3, 3, 4, 4]\n",
      "[1, 12, 3, 4, 4, 5]\n",
      "4\n",
      "None\n"
     ]
    }
   ],
   "source": [
    "# defined with the \"def\" keyword followed by the function name, then list of parameters, then :\n",
    "# def funcName(param1,...):\n",
    "#    <body of function>\n",
    "\n",
    "def add(x, y):\n",
    "    return x + y\n",
    "\n",
    "print(add(10.5,15))\n",
    "\n",
    "print([1,2,3] + [3,4,4]) # + on lists does concat\n",
    "\n",
    "print(add([1,12,3], [4,4,5]))\n",
    "\n",
    "def printstuff(x):\n",
    "    print(x)\n",
    "    \n",
    "x = printstuff(4)\n",
    "print(x)"
   ]
  },
  {
   "cell_type": "markdown",
   "id": "9b40a2a2",
   "metadata": {},
   "source": [
    "Python has a `None` type, taking the place of \"no value\" -- this takes no place in memory, etc."
   ]
  },
  {
   "cell_type": "code",
   "execution_count": 14,
   "id": "9837433f",
   "metadata": {},
   "outputs": [
    {
     "name": "stdout",
     "output_type": "stream",
     "text": [
      "hello 10\n",
      "4\n",
      "Error: function did not return\n"
     ]
    }
   ],
   "source": [
    "# Type casting: can cast objects to types by calling class constructors:\n",
    "x = 10\n",
    "y = \"hello \" + str(x)\n",
    "print(y)\n",
    "\n",
    "#print(int(None))\n",
    "\n",
    "x = printstuff(4)\n",
    "if x is None:\n",
    "    print(\"Error: function did not return\")"
   ]
  },
  {
   "cell_type": "code",
   "execution_count": 15,
   "id": "96f38ae0",
   "metadata": {},
   "outputs": [
    {
     "name": "stdout",
     "output_type": "stream",
     "text": [
      "a: 10\n",
      "b: hello\n",
      "c: hello\n",
      "a: 15\n",
      "b: hello\n",
      "c: 60\n",
      "a: 10\n",
      "b: 30\n",
      "c: 20\n",
      "a: 10\n",
      "b: 30\n",
      "c: 20\n",
      "a: {'1': 1, '2': 2, '3': 3}\n",
      "b: 30\n",
      "c: 20\n",
      "a: 10\n",
      "b: <function myFunction at 0x10a04b550>\n",
      "c: hello\n"
     ]
    }
   ],
   "source": [
    "# parameters in functions:\n",
    "# come in two types: ordered and named\n",
    "# and, all can have default values\n",
    "\n",
    "# a has default value of 10, meaning user can not provide it at function call time\n",
    "def myFunction(b, a=10, c=\"hello\"):\n",
    "    print(f\"a: {a}\")\n",
    "    print(f\"b: {b}\")\n",
    "    print(f\"c: {c}\")\n",
    "    \n",
    "myFunction(\"hello\")\n",
    "myFunction(\"hello\", 15, 60)\n",
    "myFunction(a=10,c=20,b=30)\n",
    "myFunction(c=20,b=30)\n",
    "\n",
    "myFunction(c=20,b=30,a={'1':1,'2':2,'3':3})\n",
    "\n",
    "myFunction(b=myFunction)"
   ]
  },
  {
   "cell_type": "code",
   "execution_count": 16,
   "id": "8958dc09",
   "metadata": {},
   "outputs": [
    {
     "name": "stdout",
     "output_type": "stream",
     "text": [
      "<function myFunction at 0x10a04b550>\n"
     ]
    }
   ],
   "source": [
    "print(myFunction)"
   ]
  },
  {
   "cell_type": "code",
   "execution_count": 17,
   "id": "b5ddf4fe",
   "metadata": {},
   "outputs": [],
   "source": [
    "def callFunc(f):\n",
    "    f(10,20,30)"
   ]
  },
  {
   "cell_type": "code",
   "execution_count": 18,
   "id": "d0afeb3c",
   "metadata": {},
   "outputs": [
    {
     "name": "stdout",
     "output_type": "stream",
     "text": [
      "a: 20\n",
      "b: 10\n",
      "c: 30\n"
     ]
    }
   ],
   "source": [
    "callFunc(myFunction)"
   ]
  },
  {
   "cell_type": "code",
   "execution_count": 19,
   "id": "0f5a85e9",
   "metadata": {},
   "outputs": [],
   "source": [
    "class MyClass:\n",
    "    # constructor is always __init__(self, class params)\n",
    "    # every instance method must have a parameter to hold a reference to the current object\n",
    "    \n",
    "    counter = 0\n",
    "    \n",
    "    def __init__(self,a,b,c):\n",
    "        # instead of the \"this\" keyword as in C++/Java we use \"self\" -- this is customizable\n",
    "        self.a = a\n",
    "        self.b = b\n",
    "        self.c = c\n",
    "        MyClass.counter += 1\n",
    "        \n",
    "    def __str__(self):\n",
    "        return f'a: {self.a}, b: {self.b}, c: {self.c}'\n",
    "        \n",
    "    # instance function\n",
    "    def instanceFunct(self):\n",
    "        print(f\"Hello from {self}\")\n",
    "        print(f\"My a is {self.a}\")\n",
    "        print(f\"My b is {self.b}\")\n",
    "        print(f\"My c is {self.c}\")\n",
    "        \n",
    "    # class function, no \"self\" needed\n",
    "    def classFunction():\n",
    "        print(f\"Hello from class!\")"
   ]
  },
  {
   "cell_type": "code",
   "execution_count": 20,
   "id": "0222a61b",
   "metadata": {},
   "outputs": [],
   "source": [
    "a = MyClass(10,20,30)"
   ]
  },
  {
   "cell_type": "code",
   "execution_count": 21,
   "id": "2fd56b0b",
   "metadata": {},
   "outputs": [
    {
     "name": "stdout",
     "output_type": "stream",
     "text": [
      "a: 10, b: 20, c: 30\n"
     ]
    }
   ],
   "source": [
    "print(a)"
   ]
  },
  {
   "cell_type": "code",
   "execution_count": 22,
   "id": "c5567edd",
   "metadata": {},
   "outputs": [
    {
     "name": "stdout",
     "output_type": "stream",
     "text": [
      "Hello from a: 10, b: 20, c: 30\n",
      "My a is 10\n",
      "My b is 20\n",
      "My c is 30\n"
     ]
    }
   ],
   "source": [
    "a.instanceFunct()"
   ]
  },
  {
   "cell_type": "code",
   "execution_count": 23,
   "id": "1e647ad2",
   "metadata": {},
   "outputs": [
    {
     "name": "stdout",
     "output_type": "stream",
     "text": [
      "Hello from a: hello, b: 30, c: [1, 2, 3]\n",
      "My a is hello\n",
      "My b is 30\n",
      "My c is [1, 2, 3]\n"
     ]
    }
   ],
   "source": [
    "b = MyClass(\"hello\", 30, [1,2,3])\n",
    "b.instanceFunct()"
   ]
  },
  {
   "cell_type": "code",
   "execution_count": 24,
   "id": "964100da",
   "metadata": {},
   "outputs": [
    {
     "name": "stdout",
     "output_type": "stream",
     "text": [
      "Hello from class!\n"
     ]
    }
   ],
   "source": [
    "MyClass.classFunction()"
   ]
  },
  {
   "cell_type": "code",
   "execution_count": 25,
   "id": "3a8df6c9",
   "metadata": {},
   "outputs": [
    {
     "name": "stdout",
     "output_type": "stream",
     "text": [
      "Hello from a: 10, b: 20, c: 30\n",
      "My a is 10\n",
      "My b is 20\n",
      "My c is 30\n"
     ]
    }
   ],
   "source": [
    "MyClass.instanceFunct(a)  # long-form of a.instanceFunct()"
   ]
  },
  {
   "cell_type": "code",
   "execution_count": 26,
   "id": "9cc9652c",
   "metadata": {},
   "outputs": [
    {
     "data": {
      "text/plain": [
       "2"
      ]
     },
     "execution_count": 26,
     "metadata": {},
     "output_type": "execute_result"
    }
   ],
   "source": [
    "MyClass.counter"
   ]
  },
  {
   "cell_type": "code",
   "execution_count": 27,
   "id": "59254fdc",
   "metadata": {},
   "outputs": [
    {
     "data": {
      "text/plain": [
       "['__class__',\n",
       " '__delattr__',\n",
       " '__dict__',\n",
       " '__dir__',\n",
       " '__doc__',\n",
       " '__eq__',\n",
       " '__format__',\n",
       " '__ge__',\n",
       " '__getattribute__',\n",
       " '__gt__',\n",
       " '__hash__',\n",
       " '__init__',\n",
       " '__init_subclass__',\n",
       " '__le__',\n",
       " '__lt__',\n",
       " '__module__',\n",
       " '__ne__',\n",
       " '__new__',\n",
       " '__reduce__',\n",
       " '__reduce_ex__',\n",
       " '__repr__',\n",
       " '__setattr__',\n",
       " '__sizeof__',\n",
       " '__str__',\n",
       " '__subclasshook__',\n",
       " '__weakref__',\n",
       " 'a',\n",
       " 'b',\n",
       " 'c',\n",
       " 'classFunction',\n",
       " 'counter',\n",
       " 'instanceFunct']"
      ]
     },
     "execution_count": 27,
     "metadata": {},
     "output_type": "execute_result"
    }
   ],
   "source": [
    "dir(a)"
   ]
  },
  {
   "cell_type": "code",
   "execution_count": 28,
   "id": "eab1d5a7",
   "metadata": {},
   "outputs": [
    {
     "data": {
      "text/plain": [
       "2"
      ]
     },
     "execution_count": 28,
     "metadata": {},
     "output_type": "execute_result"
    }
   ],
   "source": [
    "a.counter"
   ]
  },
  {
   "cell_type": "code",
   "execution_count": 29,
   "id": "0fb020e9",
   "metadata": {},
   "outputs": [
    {
     "data": {
      "text/plain": [
       "2"
      ]
     },
     "execution_count": 29,
     "metadata": {},
     "output_type": "execute_result"
    }
   ],
   "source": [
    "b.counter"
   ]
  },
  {
   "cell_type": "code",
   "execution_count": 30,
   "id": "6e4001c3",
   "metadata": {},
   "outputs": [],
   "source": [
    "people = [\n",
    "    'Alice',\n",
    "    'Bob',\n",
    "    'Carl',\n",
    "    'Dana'\n",
    "]"
   ]
  },
  {
   "cell_type": "code",
   "execution_count": 31,
   "id": "76b36083",
   "metadata": {},
   "outputs": [],
   "source": [
    "grades = [\n",
    "    'A', 'B', 'B', 'A'\n",
    "]"
   ]
  },
  {
   "cell_type": "code",
   "execution_count": 32,
   "id": "cdaeedb7",
   "metadata": {},
   "outputs": [],
   "source": [
    "# if we want to join lists of same length in pairwise fashion, we can!\n",
    "# zip creates the iterable object\n",
    "# list() casts to a list to use\n",
    "people_grades = list(zip(people,grades))"
   ]
  },
  {
   "cell_type": "code",
   "execution_count": 33,
   "id": "9980849f",
   "metadata": {},
   "outputs": [
    {
     "name": "stdout",
     "output_type": "stream",
     "text": [
      "[('Alice', 'A'), ('Bob', 'B'), ('Carl', 'B'), ('Dana', 'A')]\n"
     ]
    }
   ],
   "source": [
    "print(people_grades)"
   ]
  },
  {
   "cell_type": "code",
   "execution_count": 34,
   "id": "9bdccce8",
   "metadata": {},
   "outputs": [
    {
     "name": "stdout",
     "output_type": "stream",
     "text": [
      "range(1, 10)\n",
      "[1, 2, 3, 4, 5, 6, 7, 8, 9]\n",
      "1\n",
      "4\n",
      "9\n",
      "16\n",
      "25\n",
      "36\n",
      "49\n",
      "64\n",
      "81\n"
     ]
    }
   ],
   "source": [
    "print(range(1,10))\n",
    "print(list(range(1,10)))\n",
    "\n",
    "for i in range(1,10):\n",
    "    print(i**2)"
   ]
  },
  {
   "cell_type": "code",
   "execution_count": 35,
   "id": "f4398871",
   "metadata": {},
   "outputs": [
    {
     "name": "stdout",
     "output_type": "stream",
     "text": [
      "[('Alice', 'A'), ('Bob', 'B'), ('Carl', 'B'), ('Dana', 'A')]\n"
     ]
    }
   ],
   "source": [
    "result = []\n",
    "if len(people) == len(grades):\n",
    "    for i in range(len(people)): # will go from 0, 1, ..., len(people)-1\n",
    "        result += [ (people[i], grades[i]) ] # make a list of a single element and concat to the result list\n",
    "    print(result)\n",
    "else:\n",
    "    print(\"Error: lists must be same length\")"
   ]
  },
  {
   "cell_type": "code",
   "execution_count": 36,
   "id": "9070e5d7",
   "metadata": {},
   "outputs": [
    {
     "name": "stdout",
     "output_type": "stream",
     "text": [
      "[('Alice', 'A'), ('Bob', 'B'), ('Carl', 'B'), ('Dana', 'A')]\n"
     ]
    }
   ],
   "source": [
    "# list comprehension -- used to build lists quickly\n",
    "# [ <expression> for <iteration> ] \n",
    "# results in [ <exp at first iteration>, <second iteration>, ..., <last iteration>]\n",
    "\n",
    "result = [ (people[i], grades[i]) for i in range(len(people))]\n",
    "print(result)"
   ]
  },
  {
   "cell_type": "code",
   "execution_count": 37,
   "id": "60b65d66",
   "metadata": {},
   "outputs": [],
   "source": [
    "people_grades = { people[i]: grades[i] for i in range(len(people))}"
   ]
  },
  {
   "cell_type": "code",
   "execution_count": 38,
   "id": "27d69318",
   "metadata": {},
   "outputs": [
    {
     "name": "stdout",
     "output_type": "stream",
     "text": [
      "{'Alice': 'A', 'Bob': 'B', 'Carl': 'B', 'Dana': 'A'}\n"
     ]
    }
   ],
   "source": [
    "print(people_grades)"
   ]
  },
  {
   "cell_type": "code",
   "execution_count": 39,
   "id": "034b2cba",
   "metadata": {},
   "outputs": [
    {
     "data": {
      "text/plain": [
       "'B'"
      ]
     },
     "execution_count": 39,
     "metadata": {},
     "output_type": "execute_result"
    }
   ],
   "source": [
    "people_grades['Bob']"
   ]
  },
  {
   "cell_type": "code",
   "execution_count": 40,
   "id": "d617f1bf",
   "metadata": {},
   "outputs": [
    {
     "ename": "TypeError",
     "evalue": "can't multiply sequence by non-int of type 'list'",
     "output_type": "error",
     "traceback": [
      "\u001b[0;31m---------------------------------------------------------------------\u001b[0m",
      "\u001b[0;31mTypeError\u001b[0m                           Traceback (most recent call last)",
      "\u001b[0;32m<ipython-input-40-d5e956d27113>\u001b[0m in \u001b[0;36m<module>\u001b[0;34m\u001b[0m\n\u001b[0;32m----> 1\u001b[0;31m \u001b[0;34m[\u001b[0m\u001b[0;36m1\u001b[0m\u001b[0;34m,\u001b[0m\u001b[0;36m2\u001b[0m\u001b[0;34m,\u001b[0m\u001b[0;36m3\u001b[0m\u001b[0;34m]\u001b[0m \u001b[0;34m*\u001b[0m \u001b[0;34m[\u001b[0m\u001b[0;36m4\u001b[0m\u001b[0;34m,\u001b[0m\u001b[0;36m5\u001b[0m\u001b[0;34m,\u001b[0m\u001b[0;36m6\u001b[0m\u001b[0;34m]\u001b[0m\u001b[0;34m\u001b[0m\u001b[0;34m\u001b[0m\u001b[0m\n\u001b[0m",
      "\u001b[0;31mTypeError\u001b[0m: can't multiply sequence by non-int of type 'list'"
     ]
    }
   ],
   "source": [
    "[1,2,3] * [4,5,6]"
   ]
  },
  {
   "cell_type": "code",
   "execution_count": 41,
   "id": "4fdfd47b",
   "metadata": {},
   "outputs": [
    {
     "data": {
      "text/plain": [
       "[{'id': 0, 'name': 'Salisbury'},\n",
       " {'id': 1, 'name': 'Oxford'},\n",
       " {'id': 2, 'name': 'Cambridge'},\n",
       " {'id': 3, 'name': 'Berlin'},\n",
       " {'id': 4, 'name': 'Ocean City'},\n",
       " {'id': 5, 'name': 'Snow Hill'}]"
      ]
     },
     "execution_count": 41,
     "metadata": {},
     "output_type": "execute_result"
    }
   ],
   "source": [
    "# list comprehension/for loops in general support conditionals\n",
    "city_names = ['Salisbury', 'Oxford', 'Cambridge', 'Berlin', 'Ocean City', 'Snow Hill']\n",
    "cities = [{\"id\": i, \"name\": n} for (i,n) in enumerate(city_names)]\n",
    "\"\"\"\n",
    "what this does, in c-style procedure:\n",
    "cities = []\n",
    "for every pair (i, n) in list of index/pairs of city_names\n",
    "  cities += [ {id: i, name: n} ]\n",
    "\"\"\"\n",
    "cities"
   ]
  },
  {
   "cell_type": "code",
   "execution_count": 42,
   "id": "957e2f32",
   "metadata": {},
   "outputs": [
    {
     "name": "stdout",
     "output_type": "stream",
     "text": [
      "['Berlin', 'Ocean City', 'Snow Hill']\n"
     ]
    }
   ],
   "source": [
    "# now about for-loop filtering/conditionals\n",
    "cities_id_bigger_than_2 = []\n",
    "for c in cities:\n",
    "    if c['id'] > 2:\n",
    "        cities_id_bigger_than_2 += [c['name']]\n",
    "print(cities_id_bigger_than_2)"
   ]
  },
  {
   "cell_type": "code",
   "execution_count": 43,
   "id": "6233d727",
   "metadata": {},
   "outputs": [
    {
     "data": {
      "text/plain": [
       "['Ocean City', 'Snow Hill']"
      ]
     },
     "execution_count": 43,
     "metadata": {},
     "output_type": "execute_result"
    }
   ],
   "source": [
    "# now about comprehension filtering/conditionals\n",
    "[c['name'] for c in cities if c['id'] > 2 and c['name'][0] > 'C']"
   ]
  },
  {
   "cell_type": "code",
   "execution_count": 44,
   "id": "cfdd3ca1",
   "metadata": {},
   "outputs": [
    {
     "data": {
      "text/plain": [
       "[('Berlin', 'Salisbury'),\n",
       " ('Berlin', 'Oxford'),\n",
       " ('Berlin', 'Cambridge'),\n",
       " ('Berlin', 'Berlin'),\n",
       " ('Berlin', 'Ocean City'),\n",
       " ('Berlin', 'Snow Hill'),\n",
       " ('Ocean City', 'Salisbury'),\n",
       " ('Ocean City', 'Oxford'),\n",
       " ('Ocean City', 'Cambridge'),\n",
       " ('Ocean City', 'Berlin'),\n",
       " ('Ocean City', 'Ocean City'),\n",
       " ('Ocean City', 'Snow Hill'),\n",
       " ('Snow Hill', 'Salisbury'),\n",
       " ('Snow Hill', 'Oxford'),\n",
       " ('Snow Hill', 'Cambridge'),\n",
       " ('Snow Hill', 'Berlin'),\n",
       " ('Snow Hill', 'Ocean City'),\n",
       " ('Snow Hill', 'Snow Hill')]"
      ]
     },
     "execution_count": 44,
     "metadata": {},
     "output_type": "execute_result"
    }
   ],
   "source": [
    "[(c1['name'], c2['name']) \n",
    "  for c1 in cities if c1['id'] > 2\n",
    "  for c2 in cities]"
   ]
  },
  {
   "cell_type": "code",
   "execution_count": 45,
   "id": "e598bf47",
   "metadata": {},
   "outputs": [],
   "source": [
    "def cartesian_product(list1, list2):\n",
    "    # build a list of tuples, pairing up every element from list1 to list2\n",
    "    return [(l1, l2) \n",
    "      for l1 in list1\n",
    "      for l2 in list2]"
   ]
  },
  {
   "cell_type": "code",
   "execution_count": 46,
   "id": "79cef394",
   "metadata": {},
   "outputs": [
    {
     "data": {
      "text/plain": [
       "[(1, 9), (1, 8), (1, 5), (2, 9), (2, 8), (2, 5), (3, 9), (3, 8), (3, 5)]"
      ]
     },
     "execution_count": 46,
     "metadata": {},
     "output_type": "execute_result"
    }
   ],
   "source": [
    "lattice = cartesian_product([1,2,3], [9,8,5])\n",
    "lattice"
   ]
  },
  {
   "cell_type": "code",
   "execution_count": 47,
   "id": "a4a6ca24",
   "metadata": {},
   "outputs": [
    {
     "data": {
      "text/plain": [
       "[('Salisbury', 'Salisbury'),\n",
       " ('Salisbury', 'Oxford'),\n",
       " ('Salisbury', 'Cambridge'),\n",
       " ('Salisbury', 'Berlin'),\n",
       " ('Salisbury', 'Ocean City'),\n",
       " ('Salisbury', 'Snow Hill'),\n",
       " ('Oxford', 'Salisbury'),\n",
       " ('Oxford', 'Oxford'),\n",
       " ('Oxford', 'Cambridge'),\n",
       " ('Oxford', 'Berlin'),\n",
       " ('Oxford', 'Ocean City'),\n",
       " ('Oxford', 'Snow Hill'),\n",
       " ('Cambridge', 'Salisbury'),\n",
       " ('Cambridge', 'Oxford'),\n",
       " ('Cambridge', 'Cambridge'),\n",
       " ('Cambridge', 'Berlin'),\n",
       " ('Cambridge', 'Ocean City'),\n",
       " ('Cambridge', 'Snow Hill'),\n",
       " ('Berlin', 'Salisbury'),\n",
       " ('Berlin', 'Oxford'),\n",
       " ('Berlin', 'Cambridge'),\n",
       " ('Berlin', 'Berlin'),\n",
       " ('Berlin', 'Ocean City'),\n",
       " ('Berlin', 'Snow Hill'),\n",
       " ('Ocean City', 'Salisbury'),\n",
       " ('Ocean City', 'Oxford'),\n",
       " ('Ocean City', 'Cambridge'),\n",
       " ('Ocean City', 'Berlin'),\n",
       " ('Ocean City', 'Ocean City'),\n",
       " ('Ocean City', 'Snow Hill'),\n",
       " ('Snow Hill', 'Salisbury'),\n",
       " ('Snow Hill', 'Oxford'),\n",
       " ('Snow Hill', 'Cambridge'),\n",
       " ('Snow Hill', 'Berlin'),\n",
       " ('Snow Hill', 'Ocean City'),\n",
       " ('Snow Hill', 'Snow Hill')]"
      ]
     },
     "execution_count": 47,
     "metadata": {},
     "output_type": "execute_result"
    }
   ],
   "source": [
    "cartesian_product([c['name'] for c in cities], [c['name'] for c in cities])"
   ]
  },
  {
   "cell_type": "code",
   "execution_count": 48,
   "id": "53cb2321",
   "metadata": {},
   "outputs": [
    {
     "data": {
      "text/plain": [
       "[{'id': 0, 'name': 'Salisbury'},\n",
       " {'id': 1, 'name': 'Oxford'},\n",
       " {'id': 2, 'name': 'Cambridge'},\n",
       " {'id': 3, 'name': 'Berlin'},\n",
       " {'id': 4, 'name': 'Ocean City'},\n",
       " {'id': 5, 'name': 'Snow Hill'}]"
      ]
     },
     "execution_count": 48,
     "metadata": {},
     "output_type": "execute_result"
    }
   ],
   "source": [
    "cities"
   ]
  },
  {
   "cell_type": "code",
   "execution_count": 49,
   "id": "250070f4",
   "metadata": {},
   "outputs": [],
   "source": [
    "people = [{\n",
    "    'id': i,\n",
    "    'name': n\n",
    "} for (i,n) in enumerate(['Kalyn', 'Chloe', 'Theodore', 'Nathan'])]"
   ]
  },
  {
   "cell_type": "code",
   "execution_count": 50,
   "id": "fd5530c5",
   "metadata": {},
   "outputs": [
    {
     "data": {
      "text/plain": [
       "[{'id': 0, 'name': 'Kalyn'},\n",
       " {'id': 1, 'name': 'Chloe'},\n",
       " {'id': 2, 'name': 'Theodore'},\n",
       " {'id': 3, 'name': 'Nathan'}]"
      ]
     },
     "execution_count": 50,
     "metadata": {},
     "output_type": "execute_result"
    }
   ],
   "source": [
    "people"
   ]
  },
  {
   "cell_type": "code",
   "execution_count": 51,
   "id": "c6c00cc7",
   "metadata": {},
   "outputs": [
    {
     "data": {
      "text/plain": [
       "[(0, 0), (1, 4), (2, 3), (3, 4)]"
      ]
     },
     "execution_count": 51,
     "metadata": {},
     "output_type": "execute_result"
    }
   ],
   "source": [
    "people_cities = [(0,0), (1, 4), (2, 3), (3, 4)]\n",
    "people_cities"
   ]
  },
  {
   "cell_type": "code",
   "execution_count": 52,
   "id": "c7d8dcc2",
   "metadata": {},
   "outputs": [],
   "source": [
    "def person_name(id):\n",
    "    # given a persons id, return their name\n",
    "    for p in people:\n",
    "        if p['id'] == id:\n",
    "            return p['name']"
   ]
  },
  {
   "cell_type": "code",
   "execution_count": 53,
   "id": "bc1a1fe2",
   "metadata": {},
   "outputs": [
    {
     "data": {
      "text/plain": [
       "'Nathan'"
      ]
     },
     "execution_count": 53,
     "metadata": {},
     "output_type": "execute_result"
    }
   ],
   "source": [
    "person_name(3)"
   ]
  },
  {
   "cell_type": "code",
   "execution_count": 54,
   "id": "25f9a12d",
   "metadata": {},
   "outputs": [],
   "source": [
    "# now write a function to report who lives in a given city\n",
    "def who_lives_in(city_name):\n",
    "    # find the id of city_name (assuming 'cities' and 'people' are a globally defined object)\n",
    "    # could also take the cities as a param\n",
    "    # Return: a array of strings representing the names of people\n",
    "    #         who live in the city named city_name\n",
    "    \n",
    "    \"\"\"\n",
    "    the c++ version:\n",
    "    for( int i = 0; i < cities.length; i++){\n",
    "        if city_name == cities[i].name\n",
    "            answer = i\n",
    "            break;\n",
    "    }\n",
    "    \"\"\"\n",
    "    # return [i['id'] for (i,c) in enumerate(cities) if cities[i]['name'] == city_name][0]\n",
    "    \n",
    "    city_id = None\n",
    "    for i in range(len(cities)):\n",
    "        if cities[i]['name'] == city_name:\n",
    "            city_id = cities[i]['id']\n",
    "            break\n",
    "    #print(f'{city_name} id is {city_id}')\n",
    "    \n",
    "    people_ids = [pc[0] for pc in people_cities if pc[1] == city_id]\n",
    "    \n",
    "    #print(f'the people ids in {city_name} are {people_ids}')\n",
    "    \n",
    "    #for id in people_ids:\n",
    "    #    print(person_name(id))\n",
    "    \n",
    "    return [person_name(id) for id in people_ids]"
   ]
  },
  {
   "cell_type": "code",
   "execution_count": 55,
   "id": "50d998d4",
   "metadata": {},
   "outputs": [
    {
     "name": "stdout",
     "output_type": "stream",
     "text": [
      "['Chloe', 'Nathan'] lives in Ocean City\n"
     ]
    }
   ],
   "source": [
    "print(f'{who_lives_in(\"Ocean City\")} lives in Ocean City')"
   ]
  },
  {
   "cell_type": "code",
   "execution_count": 56,
   "id": "06d91778",
   "metadata": {},
   "outputs": [
    {
     "data": {
      "text/plain": [
       "'Chloe and Nathan'"
      ]
     },
     "execution_count": 56,
     "metadata": {},
     "output_type": "execute_result"
    }
   ],
   "source": [
    "\" and \".join(who_lives_in('Ocean City'))"
   ]
  },
  {
   "cell_type": "code",
   "execution_count": 57,
   "id": "a307adca",
   "metadata": {},
   "outputs": [
    {
     "data": {
      "text/plain": [
       "'0,1,2,3,4,5,6,7,8,9'"
      ]
     },
     "execution_count": 57,
     "metadata": {},
     "output_type": "execute_result"
    }
   ],
   "source": [
    "\",\".join([ str(i) for i in range(10)])"
   ]
  },
  {
   "cell_type": "code",
   "execution_count": 58,
   "id": "8e8d5b8a",
   "metadata": {},
   "outputs": [
    {
     "data": {
      "text/plain": [
       "'word1,word2,word3'"
      ]
     },
     "execution_count": 58,
     "metadata": {},
     "output_type": "execute_result"
    }
   ],
   "source": [
    "\",\".join(['word1', 'word2', 'word3'])"
   ]
  },
  {
   "cell_type": "code",
   "execution_count": 59,
   "id": "5e734ff1",
   "metadata": {},
   "outputs": [
    {
     "data": {
      "text/plain": [
       "['one', 'two', 'three']"
      ]
     },
     "execution_count": 59,
     "metadata": {},
     "output_type": "execute_result"
    }
   ],
   "source": [
    "\"one,two,three\".split(',')"
   ]
  },
  {
   "cell_type": "code",
   "execution_count": null,
   "id": "07dd4917",
   "metadata": {},
   "outputs": [],
   "source": []
  }
 ],
 "metadata": {
  "kernelspec": {
   "display_name": "Python 3 (ipykernel)",
   "language": "python",
   "name": "python3"
  },
  "language_info": {
   "codemirror_mode": {
    "name": "ipython",
    "version": 3
   },
   "file_extension": ".py",
   "mimetype": "text/x-python",
   "name": "python",
   "nbconvert_exporter": "python",
   "pygments_lexer": "ipython3",
   "version": "3.8.12"
  }
 },
 "nbformat": 4,
 "nbformat_minor": 5
}
