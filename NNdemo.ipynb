{
 "cells": [
  {
   "cell_type": "code",
   "execution_count": 8,
   "metadata": {},
   "outputs": [],
   "source": [
    "import numpy as np\n",
    "import numpy.random\n",
    "import numpy.matlib\n",
    "import matplotlib.pyplot as plt\n",
    "from matplotlib import cm\n",
    "\n",
    "\"\"\"\n",
    "A \"from-scratch\" neural network implementation for educational purposes.\n",
    "This version is a simple binary classififer. It allows the user to incrementally\n",
    "train the network, displaying the resulting decision boundary and full density.\n",
    "The training data is hard-coded, but there is also a loop to allow more\n",
    "custom training data. We initialize the weights to be drawn from a standard\n",
    "Gaussian distribution.\n",
    "\n",
    "A crude diagram of a NN with two hidden layers and 2-dimensional inputs.\n",
    "The final layer is returned as a weighted sum, passed through a final\n",
    "sigmoid function. This scalar will determine which class to assign to the\n",
    "input point.\n",
    "\n",
    "x1--O---O\n",
    "  \\ / \\ / \\ \n",
    "   x   x   O --\n",
    "  / \\ / \\ /\n",
    "x2--O---O\n",
    "\n",
    "@author: Joseph Anderson <jtanderson@salisbury.edu>\n",
    "@date:   28 May 2019\n",
    "\n",
    "Exercise 1: vectorize more of the operations, combine the input, output, and\n",
    "hidden layers into single matrices. \n",
    "Exercise 2: Adapt the model to learn more than two classes\n",
    "Exercise 3: Use \"convolutional\" or \"recurrent\" neuron architectures\n",
    "Exercise 4: Turn into a \"generative\" model, to generate typical examples\n",
    "from either of the two classes\n",
    "Exercise 5: Parallelize!\n",
    "\n",
    "\n",
    "For motivation/explanation, see, for example:\n",
    "https://google-developers.appspot.com/machine-learning/crash-course/backprop-scroll/\n",
    "\"\"\"\n",
    "\n",
    "# The dimensionality of the input data\n",
    "dim = 2 \n",
    "\n",
    "# The number of hidden layers\n",
    "num_layers = 2\n",
    "\n",
    "# The size of each hidden layer\n",
    "layer_size = 2\n",
    "\n",
    "# The step size used in gradient descent\n",
    "rate = 0.1\n",
    "\n",
    "bias = False\n",
    "\n",
    "# add a dimension for bias\n",
    "if bias:\n",
    "    dim += 1\n",
    "\n",
    "# X holds N-by-d samples\n",
    "#   - N is number of samples\n",
    "#   - d is dimension\n",
    "X = np.empty((0,dim), float)\n",
    "\n",
    "# Y holds N labels of -1 or 1\n",
    "Y = np.array([])\n",
    "\n",
    "# input weights. Row i is the array of weights applied to x_i\n",
    "w_in = np.random.standard_normal((dim,layer_size))\n",
    "\n",
    "# \"Tensor\" (3-dim array) of hidden-layer output weights. \n",
    "# w_hidden[lay][i][j] is the weight between lay node i and lay+1 node j\n",
    "w_hidden = np.random.standard_normal((num_layers-1, layer_size, layer_size))\n",
    "\n",
    "# output weights, comes from last layer\n",
    "w_out = np.random.standard_normal((1,layer_size))\n",
    "\n",
    "# Use the standard sigmoid function. Another option is arctan, etc.\n",
    "def sigmoid(arr):\n",
    "    return 1/(1+np.exp(-1*arr))\n",
    "\n",
    "# The derivative of the sigmoid function.\n",
    "# Check this by hand to see how convenient it is :)\n",
    "def sigmoid_deriv(arr):\n",
    "    return sigmoid(arr) * (1 - sigmoid(arr))\n",
    "\n",
    "# The squared error between to vectors/scalars\n",
    "def msqerr(pred, ans):\n",
    "    return np.sum((pred-ans)**2)/2\n",
    "\n",
    "def reset():\n",
    "    w_in = np.random.standard_normal((dim,layer_size))\n",
    "    w_hidden = np.random.standard_normal((num_layers-1, layer_size, layer_size))\n",
    "    w_out = np.random.standard_normal((1,layer_size))\n",
    "    return (w_in, w_hidden, w_out)"
   ]
  },
  {
   "cell_type": "code",
   "execution_count": 9,
   "metadata": {},
   "outputs": [],
   "source": [
    "\"\"\"\n",
    "forward_step takes the weights of the network and an input point,\n",
    "returning the scalar output of the network, along with a matrix\n",
    "which is a record of the output of each intermediate node during\n",
    "the computation. This is needed for training and verification.\n",
    "\n",
    "Arguments:\n",
    "inw is the dim-by-h matrix of input weights to the first layer\n",
    "outw is the h-by-1 array of weights from the last hidden layer to the output node\n",
    "hiddenw is the num_layers-by-layer_size-by-layer_size matrix of weights between each layer\n",
    "    hidden[i] has the weights from i to i+1\n",
    "    hidden[i][j] is the array of weights into node j of layer i+1\n",
    "data is 1-by-dim row vector\n",
    "\n",
    "Returns:\n",
    "scalar value coming out of the output node\n",
    "outs is layers-by-layer_size to store the output of each node\n",
    "\"\"\"\n",
    "def forward_step(inw, outw, hiddenw, data):\n",
    "    outs = np.array([ sigmoid(data @ inw) ]) # 1-by-dim times dim-by-h\n",
    "    for i in range(1,num_layers):\n",
    "        # i-1 here because w[i] is output weights\n",
    "        # get the output of the last layer (sig of x) and weight it into this layer\n",
    "        ins = outs[-1] @ hiddenw[i-1]  # 1-by-h times h-by-h\n",
    "        outs = np.append(outs, [sigmoid(ins)], axis=0)\n",
    "\n",
    "    # last row of outs now holds the weighted output of the last hidden layer\n",
    "    ret = sigmoid(outs[-1] @ outw.T)\n",
    "    return ret[0], outs\n",
    "\n",
    "\"\"\"\n",
    "backprop analyzes how wrong the network was at predicting a given label,\n",
    "then uses the magnitude of the error to perform gradient descent on the\n",
    "edge weights throughout the network. Check this with the chain rule\n",
    "of the error function! It tracks the change in error with respect to weights,\n",
    "inputs, and outputs of every node in the network\n",
    "\n",
    "inw: dim-by-layer_size\n",
    "    weights of the input nodes\n",
    "outw: 1-by-layer_size\n",
    "    weights to the output node\n",
    "hiddenw: num_layers-1 x layer_size x layer_size\n",
    "    hiddenw[lay][i][j] is the weight between lay node i and lay+1 node j\n",
    "    a column is all input weights to that node\n",
    "outputs: num_layers x layer_size\n",
    "    record of every node's output from the forward pass\n",
    "pred: scalar predicted output\n",
    "data: the input data point\n",
    "label: scalar true output\n",
    "\"\"\"\n",
    "def backprop(inw, outw, hiddenw, outputs, pred, data, label):\n",
    "    dEyo = pred - label # scalar\n",
    "    dExo = dEyo * sigmoid_deriv(np.dot(outputs[-1], outw[0])) # scalar\n",
    "    dEwo =  dExo * outputs[-1] #np.zeros((1, layer_size)) # out\n",
    "    \n",
    "    # hidden layer derivatives setup\n",
    "    dEwh = np.zeros((num_layers-1, layer_size, layer_size))\n",
    "    dExh = np.zeros((num_layers, layer_size))\n",
    "    dEyh = np.zeros((num_layers, layer_size))\n",
    "    \n",
    "    # need to do output layer first, not a matrix product\n",
    "    dEyh[-1] = outw * dExo # 1-by-h times scalar\n",
    "    dExh[-1] = dEyh[-1] * sigmoid_deriv(dExo)\n",
    "\n",
    "    for i in range(num_layers-2,-1,-1):\n",
    "        # i-1 to get the inputs to layer i\n",
    "        x = outputs[i-1] @ hiddenw[i-1] # 1-by-h times h-by-h\n",
    "        dExh[i] = dEyh[i] * sigmoid_deriv(x) # 1-by-h\n",
    "        dEwh[i] = outputs[i-1] * dExh[i]\n",
    "        if i > 0:\n",
    "            # prep the next layer\n",
    "            dEyh[i-1] = hiddenw[i] @ dExh[i].T # h-by-h times h-by-1\n",
    "\n",
    "    #dEwi = outputs[0] * dEyh[0] # take care of the input layer, again\n",
    "                                # not a matrix product\n",
    "    data = numpy.array([data])\n",
    "    dEwi = np.matlib.repmat(data.T, 1, layer_size) * np.matlib.repmat(dExh[0], dim, 1)  # dim-by-h broadcast dim-by-h\n",
    "\n",
    "\n",
    "    # adjust the hiden layer weights accoriding to the error.\n",
    "    # Check to see that this follows gradient descent!\n",
    "    hiddenw = hiddenw - rate * dEwh\n",
    "    inw = inw - rate * dEwi\n",
    "    outw[0] = outw[0] - rate * dEwo\n",
    "\n",
    "    # return the new weights\n",
    "    return inw, outw, hiddenw"
   ]
  },
  {
   "cell_type": "code",
   "execution_count": 10,
   "metadata": {},
   "outputs": [],
   "source": [
    "def train_rounds(train_x, train_y, num_rounds, w_in, w_out, w_hidden):\n",
    "    # Set up the plotting\n",
    "    fig = plt.figure()\n",
    "    ax = fig.add_subplot(111)\n",
    "    plt.ion()\n",
    "    fig.show()\n",
    "    fig.canvas.draw()\n",
    "    plt.axis([-4,4,-4,4])\n",
    "    ax.axis([-4,4,-4,4])\n",
    "    \n",
    "    # iterate as long as we're told\n",
    "    # For each epoch, it would be helpful to print the total \"loss\" -- the error\n",
    "    # across the whole training set.\n",
    "    # Often, one might choose a loss threshold (say, < 0.0001) and simply train until\n",
    "    # the loss is smaller\n",
    "    loss = 0\n",
    "    for i in range(1,num_rounds+1):\n",
    "        # iterate each data point\n",
    "        loss = 0\n",
    "        for j in range(0,train_x.shape[0]):\n",
    "            dat = train_x[j]\n",
    "            if bias:\n",
    "                dat = np.append(train_x[j], [1])\n",
    "\n",
    "            # get the prediction for the point, using the current weights (model)\n",
    "            pred, vals = forward_step(w_in, w_out, w_hidden, dat)\n",
    "            # adjust the weights (model) to account for whether we're incorrect\n",
    "            w_in, w_out, w_hidden = backprop(w_in, w_out, w_hidden, vals, pred, dat, train_y[j])\n",
    "            loss += abs(pred - train_y[j])**2\n",
    "    print(\"Current loss: \" + str(loss))\n",
    "\n",
    "    ax.clear()\n",
    "    p_x, p_y = (train_x[np.where(train_y==1)]).T\n",
    "    ax.plot(p_x, p_y, 'ob')\n",
    "    p_x, p_y = (train_x[np.where(train_y==-1)]).T\n",
    "    ax.plot(p_x, p_y, 'or')\n",
    "    ax.axis([-4,4,-4,4])\n",
    "\n",
    "    \"\"\"\n",
    "    Plot the decision area contours\n",
    "    \"\"\"\n",
    "\n",
    "    # Set up some arrays to compute the contours, store in an image\n",
    "    im_x = np.arange(-4,4,0.1)\n",
    "    im_y = np.arange(-4,4,0.1)\n",
    "    im_X, im_Y = np.meshgrid(im_x, im_y)\n",
    "\n",
    "    # values\n",
    "    im_Z = [] # np.zeros(im_X.shape)\n",
    "\n",
    "    # TODO: use list comp, zipping, and mapping for this, for-loop is slow\n",
    "    for j in range(len(im_X)): # walk over rows\n",
    "        for i in range(len(im_X[0])): # walk over columns\n",
    "            # Get the value for \n",
    "            # swap i and j to compensate for grid layout\n",
    "            dat = np.array([im_X[j][i], im_Y[j][i]]) # without bias\n",
    "            if(bias):\n",
    "                dat = np.append(dat, [1]) # add bias input\n",
    "            res, _ = forward_step(w_in, w_out, w_hidden, dat) # with bias\n",
    "            im_Z.append(res)\n",
    "\n",
    "    im_Z = numpy.array(im_Z).reshape(im_X.shape)\n",
    "\n",
    "    # see the matplotlib contourf documentation\n",
    "    cset1 = plt.contourf(im_X, im_Y, im_Z, cmap='RdBu', alpha=0.5)\n",
    "    fig.canvas.draw()\n",
    "    return (w_in, w_out, w_hidden)"
   ]
  },
  {
   "cell_type": "code",
   "execution_count": 11,
   "metadata": {},
   "outputs": [],
   "source": [
    "\"\"\"\n",
    "Hard-code more points, or adjust as needed.\n",
    "Check to make sure the structure matches the assumptions above\n",
    "\"\"\"\n",
    "\n",
    "# Input data, linearly separable classes\n",
    "# Even for this setup, the network can have a tough time getting a good model!\n",
    "# Sometimes you can even hit a \"local\" minimum where more training doesn't help,\n",
    "# we need to perturb things a bit or get more data.\n",
    "X = np.array(\n",
    "    [\n",
    "        [ 0.2, 2.2 ],\n",
    "        [ -1.9, -0.3],\n",
    "        [ 1, -1],\n",
    "        #[ -1, 1]\n",
    "    ]\n",
    ")\n",
    "\n",
    "# The labels\n",
    "Y = np.array([1, 1, -1])\n",
    "\n",
    "epochs = 1000\n",
    "\n",
    "# To run and get updated weights:\n",
    "# w_in, w_out, w_hidden = train_rounds(X, Y, epochs, w_in, w_out, w_hidden)"
   ]
  },
  {
   "cell_type": "code",
   "execution_count": 12,
   "metadata": {},
   "outputs": [],
   "source": [
    "w_in, w_hidden, w_out = reset()"
   ]
  },
  {
   "cell_type": "code",
   "execution_count": 13,
   "metadata": {},
   "outputs": [
    {
     "name": "stderr",
     "output_type": "stream",
     "text": [
      "/tmp/ipykernel_36348/3322038333.py:6: UserWarning: Matplotlib is currently using module://matplotlib_inline.backend_inline, which is a non-GUI backend, so cannot show the figure.\n",
      "  fig.show()\n"
     ]
    },
    {
     "name": "stdout",
     "output_type": "stream",
     "text": [
      "Current loss: 0\n"
     ]
    },
    {
     "data": {
      "image/png": "[encoded data removed]",
      "text/plain": [
       "<Figure size 432x288 with 1 Axes>"
      ]
     },
     "metadata": {
      "needs_background": "light"
     },
     "output_type": "display_data"
    }
   ],
   "source": [
    "w_in, w_out, w_hidden = train_rounds(X, Y, 0, w_in, w_out, w_hidden)"
   ]
  },
  {
   "cell_type": "code",
   "execution_count": 15,
   "metadata": {},
   "outputs": [
    {
     "name": "stderr",
     "output_type": "stream",
     "text": [
      "/tmp/ipykernel_36348/3322038333.py:6: UserWarning: Matplotlib is currently using module://matplotlib_inline.backend_inline, which is a non-GUI backend, so cannot show the figure.\n",
      "  fig.show()\n"
     ]
    },
    {
     "name": "stdout",
     "output_type": "stream",
     "text": [
      "Current loss: 2.676209098448572\n"
     ]
    },
    {
     "data": {
      "image/png": "[encoded data removed]",
      "text/plain": [
       "<Figure size 432x288 with 1 Axes>"
      ]
     },
     "metadata": {
      "needs_background": "light"
     },
     "output_type": "display_data"
    }
   ],
   "source": [
    "w_in, w_out, w_hidden = train_rounds(X, Y, 10, w_in, w_out, w_hidden)"
   ]
  },
  {
   "cell_type": "code",
   "execution_count": 16,
   "metadata": {},
   "outputs": [
    {
     "name": "stderr",
     "output_type": "stream",
     "text": [
      "/tmp/ipykernel_36348/3322038333.py:6: UserWarning: Matplotlib is currently using module://matplotlib_inline.backend_inline, which is a non-GUI backend, so cannot show the figure.\n",
      "  fig.show()\n"
     ]
    },
    {
     "name": "stdout",
     "output_type": "stream",
     "text": [
      "Current loss: 2.659262712653409\n"
     ]
    },
    {
     "data": {
      "image/png": "[encoded data removed]",
      "text/plain": [
       "<Figure size 432x288 with 1 Axes>"
      ]
     },
     "metadata": {
      "needs_background": "light"
     },
     "output_type": "display_data"
    }
   ],
   "source": [
    "w_in, w_out, w_hidden = train_rounds(X, Y, 10, w_in, w_out, w_hidden)"
   ]
  },
  {
   "cell_type": "code",
   "execution_count": null,
   "metadata": {},
   "outputs": [],
   "source": []
  }
 ],
 "metadata": {
  "kernelspec": {
   "display_name": "Python 3 (ipykernel)",
   "language": "python",
   "name": "python3"
  },
  "language_info": {
   "codemirror_mode": {
    "name": "ipython",
    "version": 3
   },
   "file_extension": ".py",
   "mimetype": "text/x-python",
   "name": "python",
   "nbconvert_exporter": "python",
   "pygments_lexer": "ipython3",
   "version": "3.8.12"
  }
 },
 "nbformat": 4,
 "nbformat_minor": 4
}
